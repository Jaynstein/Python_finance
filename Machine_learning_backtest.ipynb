{
 "cells": [
  {
   "cell_type": "markdown",
   "id": "6bdc98fa-1760-4b8e-9d2d-d9e1c2a18afb",
   "metadata": {},
   "source": [
    "\n",
    "<!DOCTYPE html>\n",
    "<html>\n",
    "  <head>\n",
    "    <meta charset=\"UTF-8\">\n",
    "    <title>Trading Strategy Parameter Optimization</title>\n",
    "    <style>\n",
    "      body {\n",
    "        font-family: Arial, sans-serif;\n",
    "        background-color: #f5f5f5;\n",
    "        margin: 20px;\n",
    "        text-align: center;\n",
    "      }\n",
    "      h1 {\n",
    "        color: #2c3e50;\n",
    "        font-size: 2.5em;\n",
    "      }\n",
    "      h2 {\n",
    "        color: #34495e;\n",
    "        font-size: 2em;\n",
    "        margin-top: 0.2em;\n",
    "      }\n",
    "      p {\n",
    "        color: #2c3e50;\n",
    "        font-size: 1.2em;\n",
    "      }\n",
    "    </style>\n",
    "  </head>\n",
    "  <body>\n",
    "    <h1>Optimizing Trading Strategy Parameters</h1>\n",
    "    <h2>Machine Learning &amp; Optuna on Microsoft Stock</h2>\n",
    "    <p>\n",
    "      A project to identify the best parameters for EMA (5m &amp; 1h), ADX, stop loss, and target levels.\n",
    "    </p>\n",
    "  </body>\n",
    "</html>\n"
   ]
  },
  {
   "cell_type": "code",
   "execution_count": 2,
   "id": "8ee0cf99-1d52-4a1f-bbe7-3fe3b8057852",
   "metadata": {},
   "outputs": [],
   "source": [
    "import pandas as pd\n",
    "import matplotlib.pyplot as plt\n",
    "import yfinance as yf\n",
    "import mplfinance as mpf\n",
    "import numpy as np\n",
    "import requests\n",
    "import ta\n",
    "import optuna"
   ]
  },
  {
   "cell_type": "code",
   "execution_count": 3,
   "id": "1b308110-4963-4999-8bc0-46e018111f44",
   "metadata": {},
   "outputs": [],
   "source": [
    "TICKER = 'MSFT'\n",
    "START_DATE = \"2025-01-20\"    # Start date for historical data\n",
    "END_DATE = \"2025-03-15\"      # End date for historical data\n",
    "INTERVAL_5M = \"5m\" "
   ]
  },
  {
   "cell_type": "code",
   "execution_count": 6,
   "id": "f28905bc-a0d5-4cff-908d-b126f65ddbdf",
   "metadata": {},
   "outputs": [
    {
     "name": "stdout",
     "output_type": "stream",
     "text": [
      "YF.download() has changed argument auto_adjust default to True\n"
     ]
    },
    {
     "name": "stderr",
     "output_type": "stream",
     "text": [
      "[*********************100%***********************]  1 of 1 completed\n",
      "[*********************100%***********************]  1 of 1 completed\n"
     ]
    },
    {
     "data": {
      "text/html": [
       "<div>\n",
       "<style scoped>\n",
       "    .dataframe tbody tr th:only-of-type {\n",
       "        vertical-align: middle;\n",
       "    }\n",
       "\n",
       "    .dataframe tbody tr th {\n",
       "        vertical-align: top;\n",
       "    }\n",
       "\n",
       "    .dataframe thead tr th {\n",
       "        text-align: left;\n",
       "    }\n",
       "\n",
       "    .dataframe thead tr:last-of-type th {\n",
       "        text-align: right;\n",
       "    }\n",
       "</style>\n",
       "<table border=\"1\" class=\"dataframe\">\n",
       "  <thead>\n",
       "    <tr>\n",
       "      <th>Price</th>\n",
       "      <th>Close</th>\n",
       "      <th>High</th>\n",
       "      <th>Low</th>\n",
       "      <th>Open</th>\n",
       "      <th>Volume</th>\n",
       "    </tr>\n",
       "    <tr>\n",
       "      <th>Ticker</th>\n",
       "      <th>MSFT</th>\n",
       "      <th>MSFT</th>\n",
       "      <th>MSFT</th>\n",
       "      <th>MSFT</th>\n",
       "      <th>MSFT</th>\n",
       "    </tr>\n",
       "    <tr>\n",
       "      <th>Datetime</th>\n",
       "      <th></th>\n",
       "      <th></th>\n",
       "      <th></th>\n",
       "      <th></th>\n",
       "      <th></th>\n",
       "    </tr>\n",
       "  </thead>\n",
       "  <tbody>\n",
       "    <tr>\n",
       "      <th>2025-01-21 09:30:00-05:00</th>\n",
       "      <td>428.470001</td>\n",
       "      <td>430.790009</td>\n",
       "      <td>425.595001</td>\n",
       "      <td>430.040009</td>\n",
       "      <td>4607395</td>\n",
       "    </tr>\n",
       "    <tr>\n",
       "      <th>2025-01-21 10:30:00-05:00</th>\n",
       "      <td>428.010010</td>\n",
       "      <td>428.939911</td>\n",
       "      <td>427.010010</td>\n",
       "      <td>428.420013</td>\n",
       "      <td>1321631</td>\n",
       "    </tr>\n",
       "    <tr>\n",
       "      <th>2025-01-21 11:30:00-05:00</th>\n",
       "      <td>428.559998</td>\n",
       "      <td>428.950012</td>\n",
       "      <td>427.709991</td>\n",
       "      <td>428.003998</td>\n",
       "      <td>1260019</td>\n",
       "    </tr>\n",
       "    <tr>\n",
       "      <th>2025-01-21 12:30:00-05:00</th>\n",
       "      <td>429.359985</td>\n",
       "      <td>430.899902</td>\n",
       "      <td>428.549988</td>\n",
       "      <td>428.559998</td>\n",
       "      <td>1471297</td>\n",
       "    </tr>\n",
       "    <tr>\n",
       "      <th>2025-01-21 13:30:00-05:00</th>\n",
       "      <td>429.260010</td>\n",
       "      <td>429.519989</td>\n",
       "      <td>427.420013</td>\n",
       "      <td>429.359985</td>\n",
       "      <td>1975165</td>\n",
       "    </tr>\n",
       "    <tr>\n",
       "      <th>...</th>\n",
       "      <td>...</td>\n",
       "      <td>...</td>\n",
       "      <td>...</td>\n",
       "      <td>...</td>\n",
       "      <td>...</td>\n",
       "    </tr>\n",
       "    <tr>\n",
       "      <th>2025-03-14 11:30:00-04:00</th>\n",
       "      <td>386.184998</td>\n",
       "      <td>387.399994</td>\n",
       "      <td>385.070007</td>\n",
       "      <td>385.279999</td>\n",
       "      <td>1850065</td>\n",
       "    </tr>\n",
       "    <tr>\n",
       "      <th>2025-03-14 12:30:00-04:00</th>\n",
       "      <td>387.690002</td>\n",
       "      <td>388.299988</td>\n",
       "      <td>385.903503</td>\n",
       "      <td>386.095001</td>\n",
       "      <td>1332648</td>\n",
       "    </tr>\n",
       "    <tr>\n",
       "      <th>2025-03-14 13:30:00-04:00</th>\n",
       "      <td>387.054993</td>\n",
       "      <td>387.959991</td>\n",
       "      <td>386.774292</td>\n",
       "      <td>387.662903</td>\n",
       "      <td>1285310</td>\n",
       "    </tr>\n",
       "    <tr>\n",
       "      <th>2025-03-14 14:30:00-04:00</th>\n",
       "      <td>388.089996</td>\n",
       "      <td>388.609985</td>\n",
       "      <td>387.070007</td>\n",
       "      <td>387.070007</td>\n",
       "      <td>1536053</td>\n",
       "    </tr>\n",
       "    <tr>\n",
       "      <th>2025-03-14 15:30:00-04:00</th>\n",
       "      <td>388.480011</td>\n",
       "      <td>389.790009</td>\n",
       "      <td>387.940002</td>\n",
       "      <td>388.125000</td>\n",
       "      <td>2694185</td>\n",
       "    </tr>\n",
       "  </tbody>\n",
       "</table>\n",
       "<p>266 rows × 5 columns</p>\n",
       "</div>"
      ],
      "text/plain": [
       "Price                           Close        High         Low        Open  \\\n",
       "Ticker                           MSFT        MSFT        MSFT        MSFT   \n",
       "Datetime                                                                    \n",
       "2025-01-21 09:30:00-05:00  428.470001  430.790009  425.595001  430.040009   \n",
       "2025-01-21 10:30:00-05:00  428.010010  428.939911  427.010010  428.420013   \n",
       "2025-01-21 11:30:00-05:00  428.559998  428.950012  427.709991  428.003998   \n",
       "2025-01-21 12:30:00-05:00  429.359985  430.899902  428.549988  428.559998   \n",
       "2025-01-21 13:30:00-05:00  429.260010  429.519989  427.420013  429.359985   \n",
       "...                               ...         ...         ...         ...   \n",
       "2025-03-14 11:30:00-04:00  386.184998  387.399994  385.070007  385.279999   \n",
       "2025-03-14 12:30:00-04:00  387.690002  388.299988  385.903503  386.095001   \n",
       "2025-03-14 13:30:00-04:00  387.054993  387.959991  386.774292  387.662903   \n",
       "2025-03-14 14:30:00-04:00  388.089996  388.609985  387.070007  387.070007   \n",
       "2025-03-14 15:30:00-04:00  388.480011  389.790009  387.940002  388.125000   \n",
       "\n",
       "Price                       Volume  \n",
       "Ticker                        MSFT  \n",
       "Datetime                            \n",
       "2025-01-21 09:30:00-05:00  4607395  \n",
       "2025-01-21 10:30:00-05:00  1321631  \n",
       "2025-01-21 11:30:00-05:00  1260019  \n",
       "2025-01-21 12:30:00-05:00  1471297  \n",
       "2025-01-21 13:30:00-05:00  1975165  \n",
       "...                            ...  \n",
       "2025-03-14 11:30:00-04:00  1850065  \n",
       "2025-03-14 12:30:00-04:00  1332648  \n",
       "2025-03-14 13:30:00-04:00  1285310  \n",
       "2025-03-14 14:30:00-04:00  1536053  \n",
       "2025-03-14 15:30:00-04:00  2694185  \n",
       "\n",
       "[266 rows x 5 columns]"
      ]
     },
     "execution_count": 6,
     "metadata": {},
     "output_type": "execute_result"
    }
   ],
   "source": [
    "df= yf.download(tickers = TICKER, start = START_DATE , end = END_DATE,interval = INTERVAL_5M)\n",
    "df.dropna(inplace=True)  \n",
    "df.sort_index(inplace=True) \n",
    "df.index=df.index.tz_convert('US/Eastern')\n",
    "df\n",
    "df_1h = yf.download(tickers = TICKER, start = START_DATE , end = END_DATE,interval = '1h')\n",
    "df_1h.dropna(inplace=True)  \n",
    "df_1h.sort_index(inplace=True) \n",
    "df_1h.index=df_1h.index.tz_convert('US/Eastern')\n",
    "df_1h"
   ]
  },
  {
   "cell_type": "code",
   "execution_count": 7,
   "id": "30626906-5b98-42d1-8339-72da79a07467",
   "metadata": {},
   "outputs": [
    {
     "data": {
      "text/html": [
       "<div>\n",
       "<style scoped>\n",
       "    .dataframe tbody tr th:only-of-type {\n",
       "        vertical-align: middle;\n",
       "    }\n",
       "\n",
       "    .dataframe tbody tr th {\n",
       "        vertical-align: top;\n",
       "    }\n",
       "\n",
       "    .dataframe thead tr th {\n",
       "        text-align: left;\n",
       "    }\n",
       "\n",
       "    .dataframe thead tr:last-of-type th {\n",
       "        text-align: right;\n",
       "    }\n",
       "</style>\n",
       "<table border=\"1\" class=\"dataframe\">\n",
       "  <thead>\n",
       "    <tr>\n",
       "      <th>Price</th>\n",
       "      <th>Close</th>\n",
       "      <th>High</th>\n",
       "      <th>Low</th>\n",
       "      <th>Open</th>\n",
       "      <th>Volume</th>\n",
       "      <th>EMA_5m</th>\n",
       "      <th>EMA_1h</th>\n",
       "    </tr>\n",
       "    <tr>\n",
       "      <th>Ticker</th>\n",
       "      <th>MSFT</th>\n",
       "      <th>MSFT</th>\n",
       "      <th>MSFT</th>\n",
       "      <th>MSFT</th>\n",
       "      <th>MSFT</th>\n",
       "      <th></th>\n",
       "      <th></th>\n",
       "    </tr>\n",
       "    <tr>\n",
       "      <th>Datetime</th>\n",
       "      <th></th>\n",
       "      <th></th>\n",
       "      <th></th>\n",
       "      <th></th>\n",
       "      <th></th>\n",
       "      <th></th>\n",
       "      <th></th>\n",
       "    </tr>\n",
       "  </thead>\n",
       "  <tbody>\n",
       "    <tr>\n",
       "      <th>2025-01-21 09:30:00-05:00</th>\n",
       "      <td>429.179993</td>\n",
       "      <td>430.790009</td>\n",
       "      <td>428.570007</td>\n",
       "      <td>430.040009</td>\n",
       "      <td>2070534</td>\n",
       "      <td>429.179993</td>\n",
       "      <td>428.470001</td>\n",
       "    </tr>\n",
       "    <tr>\n",
       "      <th>2025-01-21 09:35:00-05:00</th>\n",
       "      <td>427.769989</td>\n",
       "      <td>430.040009</td>\n",
       "      <td>427.750000</td>\n",
       "      <td>429.190002</td>\n",
       "      <td>230448</td>\n",
       "      <td>429.051811</td>\n",
       "      <td>428.470001</td>\n",
       "    </tr>\n",
       "    <tr>\n",
       "      <th>2025-01-21 09:40:00-05:00</th>\n",
       "      <td>426.359985</td>\n",
       "      <td>427.820007</td>\n",
       "      <td>426.045013</td>\n",
       "      <td>427.820007</td>\n",
       "      <td>396190</td>\n",
       "      <td>428.807099</td>\n",
       "      <td>428.470001</td>\n",
       "    </tr>\n",
       "    <tr>\n",
       "      <th>2025-01-21 09:45:00-05:00</th>\n",
       "      <td>427.111206</td>\n",
       "      <td>427.489990</td>\n",
       "      <td>426.100006</td>\n",
       "      <td>426.369995</td>\n",
       "      <td>316215</td>\n",
       "      <td>428.652927</td>\n",
       "      <td>428.470001</td>\n",
       "    </tr>\n",
       "    <tr>\n",
       "      <th>2025-01-21 09:50:00-05:00</th>\n",
       "      <td>425.910004</td>\n",
       "      <td>427.929993</td>\n",
       "      <td>425.595001</td>\n",
       "      <td>427.450012</td>\n",
       "      <td>328695</td>\n",
       "      <td>428.403570</td>\n",
       "      <td>428.470001</td>\n",
       "    </tr>\n",
       "    <tr>\n",
       "      <th>...</th>\n",
       "      <td>...</td>\n",
       "      <td>...</td>\n",
       "      <td>...</td>\n",
       "      <td>...</td>\n",
       "      <td>...</td>\n",
       "      <td>...</td>\n",
       "      <td>...</td>\n",
       "    </tr>\n",
       "    <tr>\n",
       "      <th>2025-03-14 15:35:00-04:00</th>\n",
       "      <td>388.033691</td>\n",
       "      <td>388.440002</td>\n",
       "      <td>387.970001</td>\n",
       "      <td>388.228394</td>\n",
       "      <td>172073</td>\n",
       "      <td>387.936312</td>\n",
       "      <td>384.103063</td>\n",
       "    </tr>\n",
       "    <tr>\n",
       "      <th>2025-03-14 15:40:00-04:00</th>\n",
       "      <td>388.410004</td>\n",
       "      <td>388.475006</td>\n",
       "      <td>387.959991</td>\n",
       "      <td>388.035004</td>\n",
       "      <td>183960</td>\n",
       "      <td>387.979375</td>\n",
       "      <td>384.103063</td>\n",
       "    </tr>\n",
       "    <tr>\n",
       "      <th>2025-03-14 15:45:00-04:00</th>\n",
       "      <td>388.699585</td>\n",
       "      <td>388.910004</td>\n",
       "      <td>388.290009</td>\n",
       "      <td>388.369995</td>\n",
       "      <td>263267</td>\n",
       "      <td>388.044849</td>\n",
       "      <td>384.103063</td>\n",
       "    </tr>\n",
       "    <tr>\n",
       "      <th>2025-03-14 15:50:00-04:00</th>\n",
       "      <td>389.420013</td>\n",
       "      <td>389.790009</td>\n",
       "      <td>387.940002</td>\n",
       "      <td>388.679993</td>\n",
       "      <td>527730</td>\n",
       "      <td>388.169864</td>\n",
       "      <td>384.103063</td>\n",
       "    </tr>\n",
       "    <tr>\n",
       "      <th>2025-03-14 15:55:00-04:00</th>\n",
       "      <td>388.480011</td>\n",
       "      <td>389.429993</td>\n",
       "      <td>388.230011</td>\n",
       "      <td>389.380005</td>\n",
       "      <td>1425193</td>\n",
       "      <td>388.198059</td>\n",
       "      <td>384.103063</td>\n",
       "    </tr>\n",
       "  </tbody>\n",
       "</table>\n",
       "<p>2964 rows × 7 columns</p>\n",
       "</div>"
      ],
      "text/plain": [
       "Price                           Close        High         Low        Open  \\\n",
       "Ticker                           MSFT        MSFT        MSFT        MSFT   \n",
       "Datetime                                                                    \n",
       "2025-01-21 09:30:00-05:00  429.179993  430.790009  428.570007  430.040009   \n",
       "2025-01-21 09:35:00-05:00  427.769989  430.040009  427.750000  429.190002   \n",
       "2025-01-21 09:40:00-05:00  426.359985  427.820007  426.045013  427.820007   \n",
       "2025-01-21 09:45:00-05:00  427.111206  427.489990  426.100006  426.369995   \n",
       "2025-01-21 09:50:00-05:00  425.910004  427.929993  425.595001  427.450012   \n",
       "...                               ...         ...         ...         ...   \n",
       "2025-03-14 15:35:00-04:00  388.033691  388.440002  387.970001  388.228394   \n",
       "2025-03-14 15:40:00-04:00  388.410004  388.475006  387.959991  388.035004   \n",
       "2025-03-14 15:45:00-04:00  388.699585  388.910004  388.290009  388.369995   \n",
       "2025-03-14 15:50:00-04:00  389.420013  389.790009  387.940002  388.679993   \n",
       "2025-03-14 15:55:00-04:00  388.480011  389.429993  388.230011  389.380005   \n",
       "\n",
       "Price                       Volume      EMA_5m      EMA_1h  \n",
       "Ticker                        MSFT                          \n",
       "Datetime                                                    \n",
       "2025-01-21 09:30:00-05:00  2070534  429.179993  428.470001  \n",
       "2025-01-21 09:35:00-05:00   230448  429.051811  428.470001  \n",
       "2025-01-21 09:40:00-05:00   396190  428.807099  428.470001  \n",
       "2025-01-21 09:45:00-05:00   316215  428.652927  428.470001  \n",
       "2025-01-21 09:50:00-05:00   328695  428.403570  428.470001  \n",
       "...                            ...         ...         ...  \n",
       "2025-03-14 15:35:00-04:00   172073  387.936312  384.103063  \n",
       "2025-03-14 15:40:00-04:00   183960  387.979375  384.103063  \n",
       "2025-03-14 15:45:00-04:00   263267  388.044849  384.103063  \n",
       "2025-03-14 15:50:00-04:00   527730  388.169864  384.103063  \n",
       "2025-03-14 15:55:00-04:00  1425193  388.198059  384.103063  \n",
       "\n",
       "[2964 rows x 7 columns]"
      ]
     },
     "execution_count": 7,
     "metadata": {},
     "output_type": "execute_result"
    }
   ],
   "source": [
    "df['EMA_5m'] = df['Close'].ewm(span = 21, adjust = False).mean()\n",
    "df['EMA_1h']=df_1h['Close'].ewm(span = 21 , adjust=False).mean()\n",
    "df['EMA_1h'] = df['EMA_1h'].ffill()\n",
    "df"
   ]
  },
  {
   "cell_type": "code",
   "execution_count": 8,
   "id": "c1a6ac92-043a-4c0d-9520-e355b453db4d",
   "metadata": {},
   "outputs": [
    {
     "data": {
      "text/plain": [
       "RangeIndex(start=0, stop=266, step=1)"
      ]
     },
     "execution_count": 8,
     "metadata": {},
     "output_type": "execute_result"
    }
   ],
   "source": [
    "df.columns = df.columns.droplevel(1)\n",
    "df = df.reset_index()\n",
    "df = df[['Datetime', 'Open', 'Close', 'High', 'Low', 'Volume', 'EMA_5m','EMA_1h']]\n",
    "df\n",
    "df_1h.columns = df_1h.columns.droplevel(1)\n",
    "df_1h = df_1h.reset_index()\n",
    "df_1h = df_1h[['Datetime', 'Open', 'Close', 'High', 'Low', 'Volume']]\n",
    "df_1h.index"
   ]
  },
  {
   "cell_type": "code",
   "execution_count": 9,
   "id": "02af8b60-2bc8-4ae7-861d-5f1fdf61aa4b",
   "metadata": {},
   "outputs": [
    {
     "data": {
      "text/plain": [
       "DatetimeIndex(['2025-01-21 09:30:00-05:00', '2025-01-21 10:30:00-05:00',\n",
       "               '2025-01-21 11:30:00-05:00', '2025-01-21 12:30:00-05:00',\n",
       "               '2025-01-21 13:30:00-05:00', '2025-01-21 14:30:00-05:00',\n",
       "               '2025-01-21 15:30:00-05:00', '2025-01-22 09:30:00-05:00',\n",
       "               '2025-01-22 10:30:00-05:00', '2025-01-22 11:30:00-05:00',\n",
       "               ...\n",
       "               '2025-03-13 13:30:00-04:00', '2025-03-13 14:30:00-04:00',\n",
       "               '2025-03-13 15:30:00-04:00', '2025-03-14 09:30:00-04:00',\n",
       "               '2025-03-14 10:30:00-04:00', '2025-03-14 11:30:00-04:00',\n",
       "               '2025-03-14 12:30:00-04:00', '2025-03-14 13:30:00-04:00',\n",
       "               '2025-03-14 14:30:00-04:00', '2025-03-14 15:30:00-04:00'],\n",
       "              dtype='datetime64[ns, US/Eastern]', name='Datetime', length=266, freq=None)"
      ]
     },
     "execution_count": 9,
     "metadata": {},
     "output_type": "execute_result"
    }
   ],
   "source": [
    "df = df.set_index('Datetime')\n",
    "df.index\n",
    "df_1h = df_1h.set_index('Datetime')\n",
    "df_1h.index"
   ]
  },
  {
   "cell_type": "code",
   "execution_count": 10,
   "id": "d2c149d0-48ea-439f-adcd-0210efd3feb7",
   "metadata": {},
   "outputs": [
    {
     "data": {
      "text/html": [
       "<div>\n",
       "<style scoped>\n",
       "    .dataframe tbody tr th:only-of-type {\n",
       "        vertical-align: middle;\n",
       "    }\n",
       "\n",
       "    .dataframe tbody tr th {\n",
       "        vertical-align: top;\n",
       "    }\n",
       "\n",
       "    .dataframe thead th {\n",
       "        text-align: right;\n",
       "    }\n",
       "</style>\n",
       "<table border=\"1\" class=\"dataframe\">\n",
       "  <thead>\n",
       "    <tr style=\"text-align: right;\">\n",
       "      <th>Price</th>\n",
       "      <th>Open</th>\n",
       "      <th>Close</th>\n",
       "      <th>High</th>\n",
       "      <th>Low</th>\n",
       "      <th>Volume</th>\n",
       "      <th>EMA_5m</th>\n",
       "      <th>EMA_1h</th>\n",
       "      <th>ADX</th>\n",
       "    </tr>\n",
       "    <tr>\n",
       "      <th>Datetime</th>\n",
       "      <th></th>\n",
       "      <th></th>\n",
       "      <th></th>\n",
       "      <th></th>\n",
       "      <th></th>\n",
       "      <th></th>\n",
       "      <th></th>\n",
       "      <th></th>\n",
       "    </tr>\n",
       "  </thead>\n",
       "  <tbody>\n",
       "    <tr>\n",
       "      <th>2025-01-21 09:30:00-05:00</th>\n",
       "      <td>430.040009</td>\n",
       "      <td>429.179993</td>\n",
       "      <td>430.790009</td>\n",
       "      <td>428.570007</td>\n",
       "      <td>2070534</td>\n",
       "      <td>429.179993</td>\n",
       "      <td>428.470001</td>\n",
       "      <td>0.000000</td>\n",
       "    </tr>\n",
       "    <tr>\n",
       "      <th>2025-01-21 09:35:00-05:00</th>\n",
       "      <td>429.190002</td>\n",
       "      <td>427.769989</td>\n",
       "      <td>430.040009</td>\n",
       "      <td>427.750000</td>\n",
       "      <td>230448</td>\n",
       "      <td>429.051811</td>\n",
       "      <td>428.470001</td>\n",
       "      <td>0.000000</td>\n",
       "    </tr>\n",
       "    <tr>\n",
       "      <th>2025-01-21 09:40:00-05:00</th>\n",
       "      <td>427.820007</td>\n",
       "      <td>426.359985</td>\n",
       "      <td>427.820007</td>\n",
       "      <td>426.045013</td>\n",
       "      <td>396190</td>\n",
       "      <td>428.807099</td>\n",
       "      <td>428.470001</td>\n",
       "      <td>0.000000</td>\n",
       "    </tr>\n",
       "    <tr>\n",
       "      <th>2025-01-21 09:45:00-05:00</th>\n",
       "      <td>426.369995</td>\n",
       "      <td>427.111206</td>\n",
       "      <td>427.489990</td>\n",
       "      <td>426.100006</td>\n",
       "      <td>316215</td>\n",
       "      <td>428.652927</td>\n",
       "      <td>428.470001</td>\n",
       "      <td>0.000000</td>\n",
       "    </tr>\n",
       "    <tr>\n",
       "      <th>2025-01-21 09:50:00-05:00</th>\n",
       "      <td>427.450012</td>\n",
       "      <td>425.910004</td>\n",
       "      <td>427.929993</td>\n",
       "      <td>425.595001</td>\n",
       "      <td>328695</td>\n",
       "      <td>428.403570</td>\n",
       "      <td>428.470001</td>\n",
       "      <td>0.000000</td>\n",
       "    </tr>\n",
       "    <tr>\n",
       "      <th>...</th>\n",
       "      <td>...</td>\n",
       "      <td>...</td>\n",
       "      <td>...</td>\n",
       "      <td>...</td>\n",
       "      <td>...</td>\n",
       "      <td>...</td>\n",
       "      <td>...</td>\n",
       "      <td>...</td>\n",
       "    </tr>\n",
       "    <tr>\n",
       "      <th>2025-03-14 15:35:00-04:00</th>\n",
       "      <td>388.228394</td>\n",
       "      <td>388.033691</td>\n",
       "      <td>388.440002</td>\n",
       "      <td>387.970001</td>\n",
       "      <td>172073</td>\n",
       "      <td>387.936312</td>\n",
       "      <td>384.103063</td>\n",
       "      <td>27.109141</td>\n",
       "    </tr>\n",
       "    <tr>\n",
       "      <th>2025-03-14 15:40:00-04:00</th>\n",
       "      <td>388.035004</td>\n",
       "      <td>388.410004</td>\n",
       "      <td>388.475006</td>\n",
       "      <td>387.959991</td>\n",
       "      <td>183960</td>\n",
       "      <td>387.979375</td>\n",
       "      <td>384.103063</td>\n",
       "      <td>27.743896</td>\n",
       "    </tr>\n",
       "    <tr>\n",
       "      <th>2025-03-14 15:45:00-04:00</th>\n",
       "      <td>388.369995</td>\n",
       "      <td>388.699585</td>\n",
       "      <td>388.910004</td>\n",
       "      <td>388.290009</td>\n",
       "      <td>263267</td>\n",
       "      <td>388.044849</td>\n",
       "      <td>384.103063</td>\n",
       "      <td>30.874299</td>\n",
       "    </tr>\n",
       "    <tr>\n",
       "      <th>2025-03-14 15:50:00-04:00</th>\n",
       "      <td>388.679993</td>\n",
       "      <td>389.420013</td>\n",
       "      <td>389.790009</td>\n",
       "      <td>387.940002</td>\n",
       "      <td>527730</td>\n",
       "      <td>388.169864</td>\n",
       "      <td>384.103063</td>\n",
       "      <td>35.806989</td>\n",
       "    </tr>\n",
       "    <tr>\n",
       "      <th>2025-03-14 15:55:00-04:00</th>\n",
       "      <td>389.380005</td>\n",
       "      <td>388.480011</td>\n",
       "      <td>389.429993</td>\n",
       "      <td>388.230011</td>\n",
       "      <td>1425193</td>\n",
       "      <td>388.198059</td>\n",
       "      <td>384.103063</td>\n",
       "      <td>40.191601</td>\n",
       "    </tr>\n",
       "  </tbody>\n",
       "</table>\n",
       "<p>2964 rows × 8 columns</p>\n",
       "</div>"
      ],
      "text/plain": [
       "Price                            Open       Close        High         Low  \\\n",
       "Datetime                                                                    \n",
       "2025-01-21 09:30:00-05:00  430.040009  429.179993  430.790009  428.570007   \n",
       "2025-01-21 09:35:00-05:00  429.190002  427.769989  430.040009  427.750000   \n",
       "2025-01-21 09:40:00-05:00  427.820007  426.359985  427.820007  426.045013   \n",
       "2025-01-21 09:45:00-05:00  426.369995  427.111206  427.489990  426.100006   \n",
       "2025-01-21 09:50:00-05:00  427.450012  425.910004  427.929993  425.595001   \n",
       "...                               ...         ...         ...         ...   \n",
       "2025-03-14 15:35:00-04:00  388.228394  388.033691  388.440002  387.970001   \n",
       "2025-03-14 15:40:00-04:00  388.035004  388.410004  388.475006  387.959991   \n",
       "2025-03-14 15:45:00-04:00  388.369995  388.699585  388.910004  388.290009   \n",
       "2025-03-14 15:50:00-04:00  388.679993  389.420013  389.790009  387.940002   \n",
       "2025-03-14 15:55:00-04:00  389.380005  388.480011  389.429993  388.230011   \n",
       "\n",
       "Price                       Volume      EMA_5m      EMA_1h        ADX  \n",
       "Datetime                                                               \n",
       "2025-01-21 09:30:00-05:00  2070534  429.179993  428.470001   0.000000  \n",
       "2025-01-21 09:35:00-05:00   230448  429.051811  428.470001   0.000000  \n",
       "2025-01-21 09:40:00-05:00   396190  428.807099  428.470001   0.000000  \n",
       "2025-01-21 09:45:00-05:00   316215  428.652927  428.470001   0.000000  \n",
       "2025-01-21 09:50:00-05:00   328695  428.403570  428.470001   0.000000  \n",
       "...                            ...         ...         ...        ...  \n",
       "2025-03-14 15:35:00-04:00   172073  387.936312  384.103063  27.109141  \n",
       "2025-03-14 15:40:00-04:00   183960  387.979375  384.103063  27.743896  \n",
       "2025-03-14 15:45:00-04:00   263267  388.044849  384.103063  30.874299  \n",
       "2025-03-14 15:50:00-04:00   527730  388.169864  384.103063  35.806989  \n",
       "2025-03-14 15:55:00-04:00  1425193  388.198059  384.103063  40.191601  \n",
       "\n",
       "[2964 rows x 8 columns]"
      ]
     },
     "execution_count": 10,
     "metadata": {},
     "output_type": "execute_result"
    }
   ],
   "source": [
    "high = df['High']   # This is already a Series (1D)\n",
    "low = df['Low']\n",
    "close = df['Close']\n",
    "\n",
    "# Calculate ADX with a 14-period window using the ta library\n",
    "df['ADX'] = ta.trend.adx(high=high, low=low, close=close, window=9, fillna=False)\n",
    "\n",
    "df"
   ]
  },
  {
   "cell_type": "code",
   "execution_count": 12,
   "id": "17be007b-4d43-41bc-98af-315e9124ea98",
   "metadata": {},
   "outputs": [],
   "source": [
    "def signal_generator_momentum_5m(df, adx_threshold):\n",
    "    df['signal_momentum_5m'] = 0\n",
    "    for i in range(1, len(df)):\n",
    "        current_high = df['High'].iloc[i]\n",
    "        prev_high = df['High'].iloc[i-1]\n",
    "        prev_range = df['High'].iloc[i-1] - df['Low'].iloc[i-1]\n",
    "        hightoclose = df['High'].iloc[i] - df['Close'].iloc[i]\n",
    "        closetoprevlow = df['Close'].iloc[i] - df['Low'].iloc[i-1]\n",
    "        \n",
    "        if (  (df['Close'].iloc[i] <df['Open'].iloc[i])  & (df['High'].iloc[i] >= df['EMA_5m'].iloc[i])&(df['Close'].iloc[i] \n",
    "                < df['EMA_5m'].iloc[i]) &(df['Low'].iloc[i] > df['EMA_1h'].iloc[i])& (df['Low'].iloc[i-4:i-1] < df['EMA_5m'].iloc[i-4:i-1])\n",
    "           &(df['ADX'].iloc[i] >= adx_threshold)).all():\n",
    "                df.at[df.index[i], 'signal_momentum_5m']=1\n",
    "    return df   "
   ]
  },
  {
   "cell_type": "code",
   "execution_count": 13,
   "id": "a52b748c-bcac-4900-ad24-481c22a26572",
   "metadata": {},
   "outputs": [],
   "source": [
    "def backtest_strategy_1(data, stop_loss_multiplier, take_profit_multiplier):\n",
    "    trades = []\n",
    "    entry_signals = data[data['signal_momentum_5m'] == 1].index\n",
    "    \n",
    "    for entry_time in entry_signals:\n",
    "        \n",
    "        entry_idx = data.index.get_loc(entry_time)\n",
    "        prev_Range = df['High'].iloc[entry_idx-1] - df['Low'].iloc[entry_idx-1]\n",
    "        if entry_idx == 0:\n",
    "            continue  # Skip first index to have previous candle\n",
    "         \n",
    "        # Entry price (signal candle's high)\n",
    "        entry_price = data.iloc[entry_idx]['Close']\n",
    "        \n",
    "        # Initial stop loss (previous candle's low)\n",
    "        initial_stop =entry_price + (prev_Range * stop_loss_multiplier) #data.iloc[entry_idx]['High']\n",
    "        risk = entry_price - initial_stop          #negative quantity \n",
    "        tp = entry_price + (risk * take_profit_multiplier)\n",
    "        \n",
    "        # Trade tracking logic\n",
    "        exit_price = None\n",
    "        for j in range(entry_idx+1, len(data)):\n",
    "            current = data.iloc[j]\n",
    "            if current['High'] >= initial_stop:\n",
    "                exit_price = initial_stop\n",
    "                break\n",
    "            if current['Low'] <= tp:\n",
    "                exit_price = tp\n",
    "                break\n",
    "        if exit_price is None:\n",
    "            exit_price = data.iloc[-1]['Close']\n",
    "        \n",
    "        pnl = entry_price - exit_price\n",
    "        rrr = (exit_price - entry_price) / risk if risk != 0 else 0\n",
    "        trades.append({'rrr': rrr})\n",
    "    \n",
    "    return pd.DataFrame(trades)"
   ]
  },
  {
   "cell_type": "code",
   "execution_count": 14,
   "id": "f336db14-55d6-4c9f-b17b-b02871c5c5a7",
   "metadata": {},
   "outputs": [],
   "source": [
    "def objective(trial):\n",
    "    # Suggest hyperparameters\n",
    "    params = {\n",
    "        'adx_window': trial.suggest_int('adx_window', 5, 20),\n",
    "        'adx_threshold': trial.suggest_int('adx_threshold', 10, 30),\n",
    "        'ema_5m_span': trial.suggest_int('ema_5m_span', 10, 50),\n",
    "        'ema_1h_span': trial.suggest_int('ema_1h_span', 10, 50),\n",
    "        'stop_loss_multiplier': trial.suggest_float('stop_loss_multiplier', 0.5, 2.0),\n",
    "        'take_profit_multiplier': trial.suggest_float('take_profit_multiplier', 1.0, 3.0)\n",
    "    }\n",
    "    \n",
    "    # Prepare data with current parameters\n",
    "    df_copy = df.copy()\n",
    "    df_1h_copy = df_1h.copy()\n",
    "    \n",
    "    # Calculate indicators\n",
    "    df_copy['EMA_5m'] = df_copy['Close'].ewm(span=params['ema_5m_span'], adjust=False).mean()\n",
    "    df_1h_copy['EMA_1h'] = df_1h_copy['Close'].ewm(span=params['ema_1h_span'], adjust=False).mean()\n",
    "    df_copy['EMA_1h'] = df_1h_copy['EMA_1h'].reindex(df.index).ffill()\n",
    "    df_copy['ADX'] = ta.trend.adx(\n",
    "        high=df['High'], low=df['Low'], close=df['Close'],\n",
    "        window=params['adx_window'], fillna=False\n",
    "    )\n",
    "    \n",
    "    # Generate signals\n",
    "    df_copy = signal_generator_momentum_5m(df_copy, params['adx_threshold'])\n",
    "    \n",
    "    # Backtest if signals exist\n",
    "    if df_copy['signal_momentum_5m'].sum() == 0:\n",
    "        return -np.inf  # Penalize no trades\n",
    "    \n",
    "    trades = backtest_strategy_1(\n",
    "        df_copy, params['stop_loss_multiplier'], params['take_profit_multiplier']\n",
    "    )\n",
    "    \n",
    "    if trades.empty:\n",
    "        return -np.inf\n",
    "    \n",
    "    # Maximize total RRR\n",
    "    return trades['rrr'].sum()"
   ]
  },
  {
   "cell_type": "code",
   "execution_count": 15,
   "id": "fb15c92e-4a45-4d02-938d-33082425878f",
   "metadata": {},
   "outputs": [
    {
     "name": "stderr",
     "output_type": "stream",
     "text": [
      "[I 2025-03-18 20:20:09,049] A new study created in memory with name: no-name-3bb6d3a3-f723-47ab-b67e-ff4fe5a5aa8c\n"
     ]
    },
    {
     "data": {
      "application/vnd.jupyter.widget-view+json": {
       "model_id": "85605a09fd0849d18761dfd26f9ca396",
       "version_major": 2,
       "version_minor": 0
      },
      "text/plain": [
       "  0%|          | 0/100 [00:00<?, ?it/s]"
      ]
     },
     "metadata": {},
     "output_type": "display_data"
    },
    {
     "name": "stdout",
     "output_type": "stream",
     "text": [
      "[I 2025-03-18 20:20:12,689] Trial 0 finished with value: 4.9109705077186865 and parameters: {'adx_window': 18, 'adx_threshold': 16, 'ema_5m_span': 28, 'ema_1h_span': 42, 'stop_loss_multiplier': 1.497426993682821, 'take_profit_multiplier': 1.3555427734289647}. Best is trial 0 with value: 4.9109705077186865.\n",
      "[I 2025-03-18 20:20:16,294] Trial 1 finished with value: -10.993370530232202 and parameters: {'adx_window': 14, 'adx_threshold': 20, 'ema_5m_span': 11, 'ema_1h_span': 33, 'stop_loss_multiplier': 1.339473159572504, 'take_profit_multiplier': 1.5838857891473195}. Best is trial 0 with value: 4.9109705077186865.\n",
      "[I 2025-03-18 20:20:19,706] Trial 2 finished with value: -3.8134112621228287 and parameters: {'adx_window': 19, 'adx_threshold': 17, 'ema_5m_span': 32, 'ema_1h_span': 16, 'stop_loss_multiplier': 0.6572628135932839, 'take_profit_multiplier': 1.7966471844693102}. Best is trial 0 with value: 4.9109705077186865.\n",
      "[I 2025-03-18 20:20:23,045] Trial 3 finished with value: -9.360073930146049 and parameters: {'adx_window': 10, 'adx_threshold': 28, 'ema_5m_span': 19, 'ema_1h_span': 31, 'stop_loss_multiplier': 1.1436517362849556, 'take_profit_multiplier': 2.8199630349269573}. Best is trial 0 with value: 4.9109705077186865.\n",
      "[I 2025-03-18 20:20:26,512] Trial 4 finished with value: 2.9137244792262607 and parameters: {'adx_window': 17, 'adx_threshold': 12, 'ema_5m_span': 42, 'ema_1h_span': 24, 'stop_loss_multiplier': 0.8878295280132531, 'take_profit_multiplier': 1.0761437066022017}. Best is trial 0 with value: 4.9109705077186865.\n",
      "[I 2025-03-18 20:20:30,032] Trial 5 finished with value: 4.781887355339684 and parameters: {'adx_window': 5, 'adx_threshold': 20, 'ema_5m_span': 10, 'ema_1h_span': 26, 'stop_loss_multiplier': 1.2254901802596525, 'take_profit_multiplier': 2.439094367766983}. Best is trial 0 with value: 4.9109705077186865.\n",
      "[I 2025-03-18 20:20:33,399] Trial 6 finished with value: 6.923382159035262 and parameters: {'adx_window': 19, 'adx_threshold': 10, 'ema_5m_span': 27, 'ema_1h_span': 28, 'stop_loss_multiplier': 1.8727679807740283, 'take_profit_multiplier': 1.6864140122334803}. Best is trial 6 with value: 6.923382159035262.\n",
      "[I 2025-03-18 20:20:36,838] Trial 7 finished with value: 5.898431034017586 and parameters: {'adx_window': 10, 'adx_threshold': 17, 'ema_5m_span': 22, 'ema_1h_span': 21, 'stop_loss_multiplier': 1.569116645137668, 'take_profit_multiplier': 1.5265620689345012}. Best is trial 6 with value: 6.923382159035262.\n",
      "[I 2025-03-18 20:20:40,182] Trial 8 finished with value: 6.131461716714131 and parameters: {'adx_window': 5, 'adx_threshold': 13, 'ema_5m_span': 48, 'ema_1h_span': 36, 'stop_loss_multiplier': 0.5887092399867684, 'take_profit_multiplier': 2.521910286119032}. Best is trial 6 with value: 6.923382159035262.\n",
      "[I 2025-03-18 20:20:43,662] Trial 9 finished with value: 14.602882814761287 and parameters: {'adx_window': 16, 'adx_threshold': 12, 'ema_5m_span': 32, 'ema_1h_span': 41, 'stop_loss_multiplier': 1.8847782786152383, 'take_profit_multiplier': 1.966906901230104}. Best is trial 9 with value: 14.602882814761287.\n",
      "[I 2025-03-18 20:20:46,919] Trial 10 finished with value: -4.0 and parameters: {'adx_window': 14, 'adx_threshold': 27, 'ema_5m_span': 37, 'ema_1h_span': 49, 'stop_loss_multiplier': 1.990876097006316, 'take_profit_multiplier': 2.1637894563365845}. Best is trial 9 with value: 14.602882814761287.\n",
      "[I 2025-03-18 20:20:50,478] Trial 11 finished with value: 14.179005935360516 and parameters: {'adx_window': 20, 'adx_threshold': 10, 'ema_5m_span': 27, 'ema_1h_span': 10, 'stop_loss_multiplier': 1.9498877034747206, 'take_profit_multiplier': 2.013769687335421}. Best is trial 9 with value: 14.602882814761287.\n",
      "[I 2025-03-18 20:20:54,304] Trial 12 finished with value: 14.858177610485527 and parameters: {'adx_window': 16, 'adx_threshold': 10, 'ema_5m_span': 36, 'ema_1h_span': 12, 'stop_loss_multiplier': 1.7193705118426936, 'take_profit_multiplier': 2.066013662345037}. Best is trial 12 with value: 14.858177610485527.\n",
      "[I 2025-03-18 20:20:58,088] Trial 13 finished with value: 11.263526329905378 and parameters: {'adx_window': 16, 'adx_threshold': 14, 'ema_5m_span': 37, 'ema_1h_span': 40, 'stop_loss_multiplier': 1.672919572846578, 'take_profit_multiplier': 2.25150292554504}. Best is trial 12 with value: 14.858177610485527.\n",
      "[I 2025-03-18 20:21:01,564] Trial 14 finished with value: 1.9404878475665903 and parameters: {'adx_window': 12, 'adx_threshold': 24, 'ema_5m_span': 36, 'ema_1h_span': 47, 'stop_loss_multiplier': 1.7081001174356218, 'take_profit_multiplier': 1.9801626158555385}. Best is trial 12 with value: 14.858177610485527.\n",
      "[I 2025-03-18 20:21:05,153] Trial 15 finished with value: 19.75621793240213 and parameters: {'adx_window': 15, 'adx_threshold': 10, 'ema_5m_span': 50, 'ema_1h_span': 10, 'stop_loss_multiplier': 1.78572260806735, 'take_profit_multiplier': 2.7960198120365636}. Best is trial 15 with value: 19.75621793240213.\n",
      "[I 2025-03-18 20:21:08,587] Trial 16 finished with value: -1.144294472052322 and parameters: {'adx_window': 14, 'adx_threshold': 23, 'ema_5m_span': 50, 'ema_1h_span': 11, 'stop_loss_multiplier': 1.3653245378597165, 'take_profit_multiplier': 2.927852763973807}. Best is trial 15 with value: 19.75621793240213.\n",
      "[I 2025-03-18 20:21:12,033] Trial 17 finished with value: 19.281065445910386 and parameters: {'adx_window': 11, 'adx_threshold': 15, 'ema_5m_span': 44, 'ema_1h_span': 16, 'stop_loss_multiplier': 1.0350806707300564, 'take_profit_multiplier': 2.6619150405373184}. Best is trial 15 with value: 19.75621793240213.\n",
      "[I 2025-03-18 20:21:15,769] Trial 18 finished with value: 21.56588451499325 and parameters: {'adx_window': 9, 'adx_threshold': 15, 'ema_5m_span': 44, 'ema_1h_span': 18, 'stop_loss_multiplier': 0.9662277789695187, 'take_profit_multiplier': 2.630490376249433}. Best is trial 18 with value: 21.56588451499325.\n",
      "[I 2025-03-18 20:21:19,437] Trial 19 finished with value: 13.505060208101666 and parameters: {'adx_window': 8, 'adx_threshold': 19, 'ema_5m_span': 44, 'ema_1h_span': 20, 'stop_loss_multiplier': 0.8528106721563199, 'take_profit_multiplier': 2.7227844675668362}. Best is trial 18 with value: 21.56588451499325.\n",
      "[I 2025-03-18 20:21:22,869] Trial 20 finished with value: 8.823392837108772 and parameters: {'adx_window': 8, 'adx_threshold': 30, 'ema_5m_span': 41, 'ema_1h_span': 16, 'stop_loss_multiplier': 0.8097491743153462, 'take_profit_multiplier': 2.964678567421766}. Best is trial 18 with value: 21.56588451499325.\n",
      "[I 2025-03-18 20:21:26,527] Trial 21 finished with value: 15.79195533966963 and parameters: {'adx_window': 11, 'adx_threshold': 15, 'ema_5m_span': 46, 'ema_1h_span': 17, 'stop_loss_multiplier': 1.0370138383656748, 'take_profit_multiplier': 2.5791955339669634}. Best is trial 18 with value: 21.56588451499325.\n",
      "[I 2025-03-18 20:21:29,903] Trial 22 finished with value: 10.063837232218068 and parameters: {'adx_window': 8, 'adx_threshold': 18, 'ema_5m_span': 50, 'ema_1h_span': 14, 'stop_loss_multiplier': 1.0407100872755246, 'take_profit_multiplier': 2.3829796540272703}. Best is trial 18 with value: 21.56588451499325.\n",
      "[I 2025-03-18 20:21:33,403] Trial 23 finished with value: 16.739470502239776 and parameters: {'adx_window': 13, 'adx_threshold': 14, 'ema_5m_span': 44, 'ema_1h_span': 21, 'stop_loss_multiplier': 0.9864419458968252, 'take_profit_multiplier': 2.673947050223993}. Best is trial 18 with value: 21.56588451499325.\n",
      "[I 2025-03-18 20:21:37,260] Trial 24 finished with value: 18.139039087566935 and parameters: {'adx_window': 9, 'adx_threshold': 12, 'ema_5m_span': 40, 'ema_1h_span': 18, 'stop_loss_multiplier': 0.7331874353316732, 'take_profit_multiplier': 2.739912644324287}. Best is trial 18 with value: 21.56588451499325.\n",
      "[I 2025-03-18 20:21:40,642] Trial 25 finished with value: 2.367051968642539 and parameters: {'adx_window': 12, 'adx_threshold': 22, 'ema_5m_span': 46, 'ema_1h_span': 13, 'stop_loss_multiplier': 0.5098747255244017, 'take_profit_multiplier': 2.3417629921606014}. Best is trial 18 with value: 21.56588451499325.\n",
      "[I 2025-03-18 20:21:44,120] Trial 26 finished with value: 8.074315488599906 and parameters: {'adx_window': 7, 'adx_threshold': 15, 'ema_5m_span': 48, 'ema_1h_span': 23, 'stop_loss_multiplier': 1.159486378578539, 'take_profit_multiplier': 2.582045069799992}. Best is trial 18 with value: 21.56588451499325.\n",
      "[I 2025-03-18 20:21:47,559] Trial 27 finished with value: 24.152739084254367 and parameters: {'adx_window': 11, 'adx_threshold': 12, 'ema_5m_span': 44, 'ema_1h_span': 10, 'stop_loss_multiplier': 1.401458342626983, 'take_profit_multiplier': 2.8460615903545237}. Best is trial 27 with value: 24.152739084254367.\n",
      "[I 2025-03-18 20:21:51,085] Trial 28 finished with value: 23.49685973345362 and parameters: {'adx_window': 6, 'adx_threshold': 11, 'ema_5m_span': 39, 'ema_1h_span': 10, 'stop_loss_multiplier': 1.4157956792010826, 'take_profit_multiplier': 2.874738311121158}. Best is trial 27 with value: 24.152739084254367.\n",
      "[I 2025-03-18 20:21:54,995] Trial 29 finished with value: 23.875722672427155 and parameters: {'adx_window': 7, 'adx_threshold': 12, 'ema_5m_span': 39, 'ema_1h_span': 15, 'stop_loss_multiplier': 1.4045972149570483, 'take_profit_multiplier': 2.9063102227022704}. Best is trial 27 with value: 24.152739084254367.\n",
      "[I 2025-03-18 20:21:58,467] Trial 30 finished with value: 20.675423216695457 and parameters: {'adx_window': 6, 'adx_threshold': 12, 'ema_5m_span': 39, 'ema_1h_span': 14, 'stop_loss_multiplier': 1.4709720281580263, 'take_profit_multiplier': 2.970493019699579}. Best is trial 27 with value: 24.152739084254367.\n",
      "[I 2025-03-18 20:22:02,527] Trial 31 finished with value: 12.600924930288345 and parameters: {'adx_window': 7, 'adx_threshold': 13, 'ema_5m_span': 31, 'ema_1h_span': 13, 'stop_loss_multiplier': 1.4117369702374423, 'take_profit_multiplier': 2.8600924930288296}. Best is trial 27 with value: 24.152739084254367.\n",
      "[I 2025-03-18 20:22:06,859] Trial 32 finished with value: 17.84226908167468 and parameters: {'adx_window': 6, 'adx_threshold': 11, 'ema_5m_span': 34, 'ema_1h_span': 19, 'stop_loss_multiplier': 1.5566160237481075, 'take_profit_multiplier': 2.8038426437885935}. Best is trial 27 with value: 24.152739084254367.\n",
      "[I 2025-03-18 20:22:10,390] Trial 33 finished with value: 21.87547756966204 and parameters: {'adx_window': 9, 'adx_threshold': 16, 'ema_5m_span': 42, 'ema_1h_span': 10, 'stop_loss_multiplier': 1.2889707655862954, 'take_profit_multiplier': 2.9886797790601882}. Best is trial 27 with value: 24.152739084254367.\n",
      "[I 2025-03-18 20:22:13,659] Trial 34 finished with value: 24.974863470271522 and parameters: {'adx_window': 7, 'adx_threshold': 17, 'ema_5m_span': 40, 'ema_1h_span': 10, 'stop_loss_multiplier': 1.29173193573552, 'take_profit_multiplier': 2.997905289189281}. Best is trial 34 with value: 24.974863470271522.\n",
      "[I 2025-03-18 20:22:17,216] Trial 35 finished with value: 19.416600472833057 and parameters: {'adx_window': 6, 'adx_threshold': 17, 'ema_5m_span': 39, 'ema_1h_span': 14, 'stop_loss_multiplier': 1.4682859925755842, 'take_profit_multiplier': 2.8560545884393633}. Best is trial 34 with value: 24.974863470271522.\n",
      "[I 2025-03-18 20:22:20,837] Trial 36 finished with value: 12.072144557896273 and parameters: {'adx_window': 7, 'adx_threshold': 13, 'ema_5m_span': 17, 'ema_1h_span': 15, 'stop_loss_multiplier': 1.2464389112203254, 'take_profit_multiplier': 2.4714763038597436}. Best is trial 34 with value: 24.974863470271522.\n",
      "[I 2025-03-18 20:22:24,367] Trial 37 finished with value: 10.957623664431146 and parameters: {'adx_window': 5, 'adx_threshold': 20, 'ema_5m_span': 34, 'ema_1h_span': 12, 'stop_loss_multiplier': 1.3324369743416, 'take_profit_multiplier': 2.8841804071590325}. Best is trial 34 with value: 24.974863470271522.\n",
      "[I 2025-03-18 20:22:27,759] Trial 38 finished with value: 0.2831094345061005 and parameters: {'adx_window': 10, 'adx_threshold': 11, 'ema_5m_span': 30, 'ema_1h_span': 34, 'stop_loss_multiplier': 1.1639398287230234, 'take_profit_multiplier': 1.116646312227823}. Best is trial 34 with value: 24.974863470271522.\n",
      "[I 2025-03-18 20:22:31,259] Trial 39 finished with value: 11.045168383568758 and parameters: {'adx_window': 6, 'adx_threshold': 11, 'ema_5m_span': 34, 'ema_1h_span': 24, 'stop_loss_multiplier': 1.4038958432966404, 'take_profit_multiplier': 2.782796487063197}. Best is trial 34 with value: 24.974863470271522.\n",
      "[I 2025-03-18 20:22:34,855] Trial 40 finished with value: 23.806815978220513 and parameters: {'adx_window': 5, 'adx_threshold': 18, 'ema_5m_span': 23, 'ema_1h_span': 27, 'stop_loss_multiplier': 1.5626955153457758, 'take_profit_multiplier': 2.986201141301462}. Best is trial 34 with value: 24.974863470271522.\n",
      "[I 2025-03-18 20:22:38,333] Trial 41 finished with value: 23.527379943871995 and parameters: {'adx_window': 5, 'adx_threshold': 18, 'ema_5m_span': 22, 'ema_1h_span': 30, 'stop_loss_multiplier': 1.5519703836606509, 'take_profit_multiplier': 2.8948128531337125}. Best is trial 34 with value: 24.974863470271522.\n",
      "[I 2025-03-18 20:22:41,908] Trial 42 finished with value: 22.756456930131044 and parameters: {'adx_window': 5, 'adx_threshold': 21, 'ema_5m_span': 24, 'ema_1h_span': 28, 'stop_loss_multiplier': 1.5695886587521475, 'take_profit_multiplier': 2.982604066437942}. Best is trial 34 with value: 24.974863470271522.\n",
      "[I 2025-03-18 20:22:45,311] Trial 43 finished with value: 16.932814025238574 and parameters: {'adx_window': 5, 'adx_threshold': 18, 'ema_5m_span': 17, 'ema_1h_span': 30, 'stop_loss_multiplier': 1.6393228806649691, 'take_profit_multiplier': 2.7288542683492434}. Best is trial 34 with value: 24.974863470271522.\n",
      "[I 2025-03-18 20:22:48,638] Trial 44 finished with value: 10.172323104854359 and parameters: {'adx_window': 7, 'adx_threshold': 19, 'ema_5m_span': 22, 'ema_1h_span': 37, 'stop_loss_multiplier': 1.5147269330383186, 'take_profit_multiplier': 1.7448215403236254}. Best is trial 34 with value: 24.974863470271522.\n",
      "[I 2025-03-18 20:22:51,958] Trial 45 finished with value: 5.200189248541937 and parameters: {'adx_window': 8, 'adx_threshold': 18, 'ema_5m_span': 14, 'ema_1h_span': 31, 'stop_loss_multiplier': 1.6163042732239195, 'take_profit_multiplier': 1.3727358749337282}. Best is trial 34 with value: 24.974863470271522.\n",
      "[I 2025-03-18 20:22:55,339] Trial 46 finished with value: 16.44823171954317 and parameters: {'adx_window': 5, 'adx_threshold': 16, 'ema_5m_span': 21, 'ema_1h_span': 26, 'stop_loss_multiplier': 1.7903185648833153, 'take_profit_multiplier': 2.5320165513959387}. Best is trial 34 with value: 24.974863470271522.\n",
      "[I 2025-03-18 20:22:58,731] Trial 47 finished with value: 20.5807271348321 and parameters: {'adx_window': 7, 'adx_threshold': 17, 'ema_5m_span': 25, 'ema_1h_span': 35, 'stop_loss_multiplier': 1.2765089056629968, 'take_profit_multiplier': 2.8908251642178566}. Best is trial 34 with value: 24.974863470271522.\n",
      "[I 2025-03-18 20:23:02,122] Trial 48 finished with value: 13.941566889362468 and parameters: {'adx_window': 10, 'adx_threshold': 25, 'ema_5m_span': 28, 'ema_1h_span': 38, 'stop_loss_multiplier': 1.493250886857154, 'take_profit_multiplier': 2.9926958611703025}. Best is trial 34 with value: 24.974863470271522.\n",
      "[I 2025-03-18 20:23:05,521] Trial 49 finished with value: 8.408210361741556 and parameters: {'adx_window': 6, 'adx_threshold': 21, 'ema_5m_span': 19, 'ema_1h_span': 32, 'stop_loss_multiplier': 1.19059629679513, 'take_profit_multiplier': 2.7643827601583295}. Best is trial 34 with value: 24.974863470271522.\n",
      "[I 2025-03-18 20:23:08,854] Trial 50 finished with value: 18.633258600567153 and parameters: {'adx_window': 18, 'adx_threshold': 14, 'ema_5m_span': 24, 'ema_1h_span': 44, 'stop_loss_multiplier': 1.3328432050590233, 'take_profit_multiplier': 2.664096815428239}. Best is trial 34 with value: 24.974863470271522.\n",
      "[I 2025-03-18 20:23:12,246] Trial 51 finished with value: 19.5873623398359 and parameters: {'adx_window': 6, 'adx_threshold': 16, 'ema_5m_span': 38, 'ema_1h_span': 11, 'stop_loss_multiplier': 1.4161493205880185, 'take_profit_multiplier': 2.8715783945305224}. Best is trial 34 with value: 24.974863470271522.\n",
      "[I 2025-03-18 20:23:15,598] Trial 52 finished with value: 16.951920656668637 and parameters: {'adx_window': 5, 'adx_threshold': 19, 'ema_5m_span': 42, 'ema_1h_span': 27, 'stop_loss_multiplier': 1.550594170476932, 'take_profit_multiplier': 2.8951920656668673}. Best is trial 34 with value: 24.974863470271522.\n",
      "[I 2025-03-18 20:23:18,972] Trial 53 finished with value: 23.719115125246418 and parameters: {'adx_window': 7, 'adx_threshold': 13, 'ema_5m_span': 13, 'ema_1h_span': 10, 'stop_loss_multiplier': 1.4424144154239695, 'take_profit_multiplier': 2.8177286180692445}. Best is trial 34 with value: 24.974863470271522.\n",
      "[I 2025-03-18 20:23:22,519] Trial 54 finished with value: 32.131621198005156 and parameters: {'adx_window': 8, 'adx_threshold': 13, 'ema_5m_span': 12, 'ema_1h_span': 12, 'stop_loss_multiplier': 1.711219995343527, 'take_profit_multiplier': 2.8157914856192887}. Best is trial 54 with value: 32.131621198005156.\n",
      "[I 2025-03-18 20:23:26,164] Trial 55 finished with value: 19.530632120391193 and parameters: {'adx_window': 9, 'adx_threshold': 13, 'ema_5m_span': 11, 'ema_1h_span': 12, 'stop_loss_multiplier': 1.754590064986016, 'take_profit_multiplier': 2.8174016905469044}. Best is trial 54 with value: 32.131621198005156.\n",
      "[I 2025-03-18 20:23:29,649] Trial 56 finished with value: 24.456669776519387 and parameters: {'adx_window': 8, 'adx_threshold': 14, 'ema_5m_span': 12, 'ema_1h_span': 16, 'stop_loss_multiplier': 1.8416528687444425, 'take_profit_multiplier': 2.59317475126283}. Best is trial 54 with value: 32.131621198005156.\n",
      "[I 2025-03-18 20:23:33,147] Trial 57 finished with value: 16.104649456578404 and parameters: {'adx_window': 11, 'adx_threshold': 14, 'ema_5m_span': 10, 'ema_1h_span': 17, 'stop_loss_multiplier': 1.9770884833554598, 'take_profit_multiplier': 1.8557277576510525}. Best is trial 54 with value: 32.131621198005156.\n",
      "[I 2025-03-18 20:23:36,896] Trial 58 finished with value: 11.243955445265946 and parameters: {'adx_window': 8, 'adx_threshold': 12, 'ema_5m_span': 14, 'ema_1h_span': 22, 'stop_loss_multiplier': 1.817291976524583, 'take_profit_multiplier': 2.6162636963510617}. Best is trial 54 with value: 32.131621198005156.\n",
      "[I 2025-03-18 20:23:40,496] Trial 59 finished with value: 15.135170045656853 and parameters: {'adx_window': 9, 'adx_threshold': 16, 'ema_5m_span': 16, 'ema_1h_span': 15, 'stop_loss_multiplier': 1.8690463214726003, 'take_profit_multiplier': 2.1844217673915853}. Best is trial 54 with value: 32.131621198005156.\n",
      "[I 2025-03-18 20:23:44,013] Trial 60 finished with value: 13.7447606283867 and parameters: {'adx_window': 13, 'adx_threshold': 15, 'ema_5m_span': 12, 'ema_1h_span': 20, 'stop_loss_multiplier': 1.6715858788498295, 'take_profit_multiplier': 2.6908682722580473}. Best is trial 54 with value: 32.131621198005156.\n",
      "[I 2025-03-18 20:23:47,702] Trial 61 finished with value: 23.012033627039393 and parameters: {'adx_window': 8, 'adx_threshold': 13, 'ema_5m_span': 13, 'ema_1h_span': 12, 'stop_loss_multiplier': 1.9095428767168663, 'take_profit_multiplier': 2.778446312613297}. Best is trial 54 with value: 32.131621198005156.\n",
      "[I 2025-03-18 20:23:51,205] Trial 62 finished with value: 31.029290716777883 and parameters: {'adx_window': 7, 'adx_threshold': 12, 'ema_5m_span': 15, 'ema_1h_span': 10, 'stop_loss_multiplier': 1.7111514918488715, 'take_profit_multiplier': 2.946071706487656}. Best is trial 54 with value: 32.131621198005156.\n",
      "[I 2025-03-18 20:23:54,682] Trial 63 finished with value: 24.97350316767721 and parameters: {'adx_window': 10, 'adx_threshold': 10, 'ema_5m_span': 15, 'ema_1h_span': 16, 'stop_loss_multiplier': 1.7144394514102081, 'take_profit_multiplier': 2.939617833392779}. Best is trial 54 with value: 32.131621198005156.\n",
      "[I 2025-03-18 20:23:58,730] Trial 64 finished with value: 24.823957508621145 and parameters: {'adx_window': 10, 'adx_threshold': 10, 'ema_5m_span': 15, 'ema_1h_span': 16, 'stop_loss_multiplier': 1.8397386941502296, 'take_profit_multiplier': 2.930821029918898}. Best is trial 54 with value: 32.131621198005156.\n",
      "[I 2025-03-18 20:24:02,587] Trial 65 finished with value: 22.86842178884363 and parameters: {'adx_window': 10, 'adx_threshold': 10, 'ema_5m_span': 16, 'ema_1h_span': 17, 'stop_loss_multiplier': 1.847539852497147, 'take_profit_multiplier': 2.929276361802728}. Best is trial 54 with value: 32.131621198005156.\n",
      "[I 2025-03-18 20:24:06,109] Trial 66 finished with value: 5.88731719203154 and parameters: {'adx_window': 12, 'adx_threshold': 11, 'ema_5m_span': 19, 'ema_1h_span': 13, 'stop_loss_multiplier': 1.734936186612087, 'take_profit_multiplier': 2.717028835639226}. Best is trial 54 with value: 32.131621198005156.\n",
      "[I 2025-03-18 20:24:09,690] Trial 67 finished with value: 22.734300576977095 and parameters: {'adx_window': 11, 'adx_threshold': 10, 'ema_5m_span': 15, 'ema_1h_span': 11, 'stop_loss_multiplier': 1.9329793581165182, 'take_profit_multiplier': 2.5407944764987334}. Best is trial 54 with value: 32.131621198005156.\n",
      "[I 2025-03-18 20:24:13,188] Trial 68 finished with value: 17.535456086912486 and parameters: {'adx_window': 9, 'adx_threshold': 10, 'ema_5m_span': 11, 'ema_1h_span': 14, 'stop_loss_multiplier': 1.6731353381639071, 'take_profit_multiplier': 2.4334298221323962}. Best is trial 54 with value: 32.131621198005156.\n",
      "[I 2025-03-18 20:24:16,703] Trial 69 finished with value: 16.923577156524 and parameters: {'adx_window': 10, 'adx_threshold': 12, 'ema_5m_span': 17, 'ema_1h_span': 16, 'stop_loss_multiplier': 1.829610534780134, 'take_profit_multiplier': 2.92311265403742}. Best is trial 54 with value: 32.131621198005156.\n",
      "[I 2025-03-18 20:24:20,085] Trial 70 finished with value: 13.252868909328699 and parameters: {'adx_window': 12, 'adx_threshold': 11, 'ema_5m_span': 14, 'ema_1h_span': 19, 'stop_loss_multiplier': 1.7620516378904574, 'take_profit_multiplier': 2.3089922887840384}. Best is trial 54 with value: 32.131621198005156.\n",
      "[I 2025-03-18 20:24:23,454] Trial 71 finished with value: 9.842839923595701 and parameters: {'adx_window': 8, 'adx_threshold': 12, 'ema_5m_span': 19, 'ema_1h_span': 15, 'stop_loss_multiplier': 1.7120763739605942, 'take_profit_multiplier': 2.8202366602996465}. Best is trial 54 with value: 32.131621198005156.\n",
      "[I 2025-03-18 20:24:26,859] Trial 72 finished with value: 12.438773440198599 and parameters: {'adx_window': 9, 'adx_threshold': 14, 'ema_5m_span': 46, 'ema_1h_span': 12, 'stop_loss_multiplier': 1.90298715126239, 'take_profit_multiplier': 2.929846680024831}. Best is trial 54 with value: 32.131621198005156.\n",
      "[I 2025-03-18 20:24:30,310] Trial 73 finished with value: 21.2557421397981 and parameters: {'adx_window': 11, 'adx_threshold': 12, 'ema_5m_span': 10, 'ema_1h_span': 13, 'stop_loss_multiplier': 1.6212490223395897, 'take_profit_multiplier': 2.8298064608999085}. Best is trial 54 with value: 32.131621198005156.\n",
      "[I 2025-03-18 20:24:33,715] Trial 74 finished with value: 28.81333031261983 and parameters: {'adx_window': 10, 'adx_threshold': 10, 'ema_5m_span': 13, 'ema_1h_span': 10, 'stop_loss_multiplier': 1.119756903052069, 'take_profit_multiplier': 2.9375437006641945}. Best is trial 54 with value: 32.131621198005156.\n",
      "[I 2025-03-18 20:24:37,041] Trial 75 finished with value: 22.662304982090088 and parameters: {'adx_window': 10, 'adx_threshold': 10, 'ema_5m_span': 13, 'ema_1h_span': 10, 'stop_loss_multiplier': 1.0974585765379952, 'take_profit_multiplier': 2.613805525373175}. Best is trial 54 with value: 32.131621198005156.\n",
      "[I 2025-03-18 20:24:40,555] Trial 76 finished with value: 26.84137188798601 and parameters: {'adx_window': 11, 'adx_threshold': 11, 'ema_5m_span': 12, 'ema_1h_span': 11, 'stop_loss_multiplier': 0.9883984327420289, 'take_profit_multiplier': 2.939019573051893}. Best is trial 54 with value: 32.131621198005156.\n",
      "[I 2025-03-18 20:24:44,195] Trial 77 finished with value: 27.00321637452167 and parameters: {'adx_window': 13, 'adx_threshold': 11, 'ema_5m_span': 12, 'ema_1h_span': 11, 'stop_loss_multiplier': 0.9706900099697574, 'take_profit_multiplier': 2.9475377039221935}. Best is trial 54 with value: 32.131621198005156.\n",
      "[I 2025-03-18 20:24:47,709] Trial 78 finished with value: 26.88803597872262 and parameters: {'adx_window': 14, 'adx_threshold': 11, 'ema_5m_span': 12, 'ema_1h_span': 11, 'stop_loss_multiplier': 0.9319140307706681, 'take_profit_multiplier': 2.941475577827511}. Best is trial 54 with value: 32.131621198005156.\n",
      "[I 2025-03-18 20:24:51,293] Trial 79 finished with value: 34.98436696089695 and parameters: {'adx_window': 15, 'adx_threshold': 11, 'ema_5m_span': 12, 'ema_1h_span': 11, 'stop_loss_multiplier': 0.8856250568443635, 'take_profit_multiplier': 2.951636521947469}. Best is trial 79 with value: 34.98436696089695.\n",
      "[I 2025-03-18 20:24:54,734] Trial 80 finished with value: 21.97758424364449 and parameters: {'adx_window': 15, 'adx_threshold': 11, 'ema_5m_span': 10, 'ema_1h_span': 11, 'stop_loss_multiplier': 0.9194653219689084, 'take_profit_multiplier': 2.998932583030678}. Best is trial 79 with value: 34.98436696089695.\n",
      "[I 2025-03-18 20:24:58,075] Trial 81 finished with value: 39.847149013061525 and parameters: {'adx_window': 14, 'adx_threshold': 11, 'ema_5m_span': 12, 'ema_1h_span': 12, 'stop_loss_multiplier': 0.8052855953299727, 'take_profit_multiplier': 2.94759768241191}. Best is trial 81 with value: 39.847149013061525.\n",
      "[I 2025-03-18 20:25:01,359] Trial 82 finished with value: 32.00882324794558 and parameters: {'adx_window': 15, 'adx_threshold': 11, 'ema_5m_span': 12, 'ema_1h_span': 13, 'stop_loss_multiplier': 0.8077381183655367, 'take_profit_multiplier': 2.7731283294520668}. Best is trial 81 with value: 39.847149013061525.\n",
      "[I 2025-03-18 20:25:04,680] Trial 83 finished with value: 35.26422446474404 and parameters: {'adx_window': 14, 'adx_threshold': 11, 'ema_5m_span': 12, 'ema_1h_span': 13, 'stop_loss_multiplier': 0.7887301640365583, 'take_profit_multiplier': 2.750618454988868}. Best is trial 81 with value: 39.847149013061525.\n",
      "[I 2025-03-18 20:25:08,056] Trial 84 finished with value: 35.46516401727956 and parameters: {'adx_window': 15, 'adx_threshold': 11, 'ema_5m_span': 12, 'ema_1h_span': 13, 'stop_loss_multiplier': 0.7703688763905443, 'take_profit_multiplier': 2.759354957273037}. Best is trial 81 with value: 39.847149013061525.\n",
      "[I 2025-03-18 20:25:11,534] Trial 85 finished with value: 29.318505933916963 and parameters: {'adx_window': 15, 'adx_threshold': 11, 'ema_5m_span': 11, 'ema_1h_span': 13, 'stop_loss_multiplier': 0.7676021773542463, 'take_profit_multiplier': 2.7529785188659455}. Best is trial 81 with value: 39.847149013061525.\n",
      "[I 2025-03-18 20:25:15,016] Trial 86 finished with value: 27.11061342678553 and parameters: {'adx_window': 15, 'adx_threshold': 13, 'ema_5m_span': 11, 'ema_1h_span': 13, 'stop_loss_multiplier': 0.746817690198994, 'take_profit_multiplier': 2.7323006103084264}. Best is trial 81 with value: 39.847149013061525.\n",
      "[I 2025-03-18 20:25:18,470] Trial 87 finished with value: 22.79790017649069 and parameters: {'adx_window': 16, 'adx_threshold': 12, 'ema_5m_span': 13, 'ema_1h_span': 13, 'stop_loss_multiplier': 0.6747039977706609, 'take_profit_multiplier': 2.6735736934995185}. Best is trial 81 with value: 39.847149013061525.\n",
      "[I 2025-03-18 20:25:21,875] Trial 88 finished with value: 25.320597057977423 and parameters: {'adx_window': 17, 'adx_threshold': 10, 'ema_5m_span': 10, 'ema_1h_span': 14, 'stop_loss_multiplier': 0.8364279669841849, 'take_profit_multiplier': 2.7633582107490535}. Best is trial 81 with value: 39.847149013061525.\n",
      "[I 2025-03-18 20:25:25,798] Trial 89 finished with value: 13.002396669609693 and parameters: {'adx_window': 15, 'adx_threshold': 11, 'ema_5m_span': 16, 'ema_1h_span': 12, 'stop_loss_multiplier': 0.734773417881773, 'take_profit_multiplier': 2.8463382053546}. Best is trial 81 with value: 39.847149013061525.\n",
      "[I 2025-03-18 20:25:29,173] Trial 90 finished with value: 34.68038178723101 and parameters: {'adx_window': 16, 'adx_threshold': 12, 'ema_5m_span': 14, 'ema_1h_span': 14, 'stop_loss_multiplier': 0.7839505187381455, 'take_profit_multiplier': 2.7466848470109952}. Best is trial 81 with value: 39.847149013061525.\n",
      "[I 2025-03-18 20:25:32,649] Trial 91 finished with value: 36.284349465516826 and parameters: {'adx_window': 16, 'adx_threshold': 12, 'ema_5m_span': 14, 'ema_1h_span': 14, 'stop_loss_multiplier': 0.7989990733081551, 'take_profit_multiplier': 2.6492886120689443}. Best is trial 81 with value: 39.847149013061525.\n",
      "[I 2025-03-18 20:25:36,340] Trial 92 finished with value: -3.8467986176235907 and parameters: {'adx_window': 15, 'adx_threshold': 12, 'ema_5m_span': 18, 'ema_1h_span': 14, 'stop_loss_multiplier': 0.8000819804031948, 'take_profit_multiplier': 2.6836890424862814}. Best is trial 81 with value: 39.847149013061525.\n",
      "[I 2025-03-18 20:25:40,023] Trial 93 finished with value: 11.499975974585432 and parameters: {'adx_window': 17, 'adx_threshold': 13, 'ema_5m_span': 14, 'ema_1h_span': 18, 'stop_loss_multiplier': 0.620091436586923, 'take_profit_multiplier': 2.4999983983057033}. Best is trial 81 with value: 39.847149013061525.\n",
      "[I 2025-03-18 20:25:43,607] Trial 94 finished with value: 22.384634382584732 and parameters: {'adx_window': 16, 'adx_threshold': 12, 'ema_5m_span': 11, 'ema_1h_span': 15, 'stop_loss_multiplier': 0.6779370308186532, 'take_profit_multiplier': 2.769231719129259}. Best is trial 81 with value: 39.847149013061525.\n",
      "[I 2025-03-18 20:25:47,040] Trial 95 finished with value: 19.841470125708646 and parameters: {'adx_window': 14, 'adx_threshold': 12, 'ema_5m_span': 15, 'ema_1h_span': 13, 'stop_loss_multiplier': 0.765538850653066, 'take_profit_multiplier': 2.637733536806375}. Best is trial 81 with value: 39.847149013061525.\n",
      "[I 2025-03-18 20:25:50,591] Trial 96 finished with value: 28.930008131840637 and parameters: {'adx_window': 14, 'adx_threshold': 11, 'ema_5m_span': 11, 'ema_1h_span': 12, 'stop_loss_multiplier': 0.8826067626569342, 'take_profit_multiplier': 2.7240912787200324}. Best is trial 81 with value: 39.847149013061525.\n",
      "[I 2025-03-18 20:25:54,250] Trial 97 finished with value: 29.011028450664462 and parameters: {'adx_window': 17, 'adx_threshold': 13, 'ema_5m_span': 14, 'ema_1h_span': 14, 'stop_loss_multiplier': 0.7055526317610343, 'take_profit_multiplier': 2.7900541289823177}. Best is trial 81 with value: 39.847149013061525.\n",
      "[I 2025-03-18 20:25:57,706] Trial 98 finished with value: 15.191951450141834 and parameters: {'adx_window': 15, 'adx_threshold': 11, 'ema_5m_span': 12, 'ema_1h_span': 17, 'stop_loss_multiplier': 0.7842912240722074, 'take_profit_multiplier': 1.5676780580056757}. Best is trial 81 with value: 39.847149013061525.\n",
      "[I 2025-03-18 20:26:01,192] Trial 99 finished with value: -7.58776010342133 and parameters: {'adx_window': 16, 'adx_threshold': 14, 'ema_5m_span': 18, 'ema_1h_span': 15, 'stop_loss_multiplier': 0.5314535000353293, 'take_profit_multiplier': 2.5515299870723083}. Best is trial 81 with value: 39.847149013061525.\n",
      "Best parameters: {'adx_window': 14, 'adx_threshold': 11, 'ema_5m_span': 12, 'ema_1h_span': 12, 'stop_loss_multiplier': 0.8052855953299727, 'take_profit_multiplier': 2.94759768241191}\n",
      "Best RRR: 39.847149013061525\n"
     ]
    }
   ],
   "source": [
    "study = optuna.create_study(direction='maximize')\n",
    "study.optimize(objective, n_trials=100, show_progress_bar=True)\n",
    "\n",
    "# Best parameters\n",
    "print(\"Best parameters:\", study.best_params)\n",
    "print(\"Best RRR:\", study.best_value)"
   ]
  },
  {
   "cell_type": "code",
   "execution_count": 36,
   "id": "b26fd54a-b533-46fc-b8fb-6639d31cb0a1",
   "metadata": {},
   "outputs": [
    {
     "data": {
      "application/vnd.plotly.v1+json": {
       "config": {
        "plotlyServerURL": "https://plot.ly"
       },
       "data": [
        {
         "mode": "markers",
         "name": "Objective Value",
         "type": "scatter",
         "x": [
          0,
          1,
          2,
          3,
          4,
          5,
          6,
          7,
          8,
          9,
          10,
          11,
          12,
          13,
          14,
          15,
          16,
          17,
          18,
          19,
          20,
          21,
          22,
          23,
          24,
          25,
          26,
          27,
          28,
          29,
          30,
          31,
          32,
          33,
          34,
          35,
          36,
          37,
          38,
          39,
          40,
          41,
          42,
          43,
          44,
          45,
          46,
          47,
          48,
          49,
          50,
          51,
          52,
          53,
          54,
          55,
          56,
          57,
          58,
          59,
          60,
          61,
          62,
          63,
          64,
          65,
          66,
          67,
          68,
          69,
          70,
          71,
          72,
          73,
          74,
          75,
          76,
          77,
          78,
          79,
          80,
          81,
          82,
          83,
          84,
          85,
          86,
          87,
          88,
          89,
          90,
          91,
          92,
          93,
          94,
          95,
          96,
          97,
          98,
          99
         ],
         "y": [
          4.9109705077186865,
          -10.993370530232202,
          -3.8134112621228287,
          -9.360073930146049,
          2.9137244792262607,
          4.781887355339684,
          6.923382159035262,
          5.898431034017586,
          6.131461716714131,
          14.602882814761287,
          -4,
          14.179005935360516,
          14.858177610485527,
          11.263526329905378,
          1.9404878475665903,
          19.75621793240213,
          -1.144294472052322,
          19.281065445910386,
          21.56588451499325,
          13.505060208101666,
          8.823392837108772,
          15.79195533966963,
          10.063837232218068,
          16.739470502239776,
          18.139039087566935,
          2.367051968642539,
          8.074315488599906,
          24.152739084254367,
          23.49685973345362,
          23.875722672427155,
          20.675423216695457,
          12.600924930288345,
          17.84226908167468,
          21.87547756966204,
          24.974863470271522,
          19.416600472833057,
          12.072144557896273,
          10.957623664431146,
          0.2831094345061005,
          11.045168383568758,
          23.806815978220513,
          23.527379943871995,
          22.756456930131044,
          16.932814025238574,
          10.172323104854359,
          5.200189248541937,
          16.44823171954317,
          20.5807271348321,
          13.941566889362468,
          8.408210361741556,
          18.633258600567153,
          19.5873623398359,
          16.951920656668637,
          23.719115125246418,
          32.131621198005156,
          19.530632120391193,
          24.456669776519387,
          16.104649456578404,
          11.243955445265946,
          15.135170045656853,
          13.7447606283867,
          23.012033627039393,
          31.029290716777883,
          24.97350316767721,
          24.823957508621145,
          22.86842178884363,
          5.88731719203154,
          22.734300576977095,
          17.535456086912486,
          16.923577156524,
          13.252868909328699,
          9.842839923595701,
          12.438773440198599,
          21.2557421397981,
          28.81333031261983,
          22.662304982090088,
          26.84137188798601,
          27.00321637452167,
          26.88803597872262,
          34.98436696089695,
          21.97758424364449,
          39.847149013061525,
          32.00882324794558,
          35.26422446474404,
          35.46516401727956,
          29.318505933916963,
          27.11061342678553,
          22.79790017649069,
          25.320597057977423,
          13.002396669609693,
          34.68038178723101,
          36.284349465516826,
          -3.8467986176235907,
          11.499975974585432,
          22.384634382584732,
          19.841470125708646,
          28.930008131840637,
          29.011028450664462,
          15.191951450141834,
          -7.58776010342133
         ]
        },
        {
         "mode": "lines",
         "name": "Best Value",
         "type": "scatter",
         "x": [
          0,
          1,
          2,
          3,
          4,
          5,
          6,
          7,
          8,
          9,
          10,
          11,
          12,
          13,
          14,
          15,
          16,
          17,
          18,
          19,
          20,
          21,
          22,
          23,
          24,
          25,
          26,
          27,
          28,
          29,
          30,
          31,
          32,
          33,
          34,
          35,
          36,
          37,
          38,
          39,
          40,
          41,
          42,
          43,
          44,
          45,
          46,
          47,
          48,
          49,
          50,
          51,
          52,
          53,
          54,
          55,
          56,
          57,
          58,
          59,
          60,
          61,
          62,
          63,
          64,
          65,
          66,
          67,
          68,
          69,
          70,
          71,
          72,
          73,
          74,
          75,
          76,
          77,
          78,
          79,
          80,
          81,
          82,
          83,
          84,
          85,
          86,
          87,
          88,
          89,
          90,
          91,
          92,
          93,
          94,
          95,
          96,
          97,
          98,
          99
         ],
         "y": [
          4.9109705077186865,
          4.9109705077186865,
          4.9109705077186865,
          4.9109705077186865,
          4.9109705077186865,
          4.9109705077186865,
          6.923382159035262,
          6.923382159035262,
          6.923382159035262,
          14.602882814761287,
          14.602882814761287,
          14.602882814761287,
          14.858177610485527,
          14.858177610485527,
          14.858177610485527,
          19.75621793240213,
          19.75621793240213,
          19.75621793240213,
          21.56588451499325,
          21.56588451499325,
          21.56588451499325,
          21.56588451499325,
          21.56588451499325,
          21.56588451499325,
          21.56588451499325,
          21.56588451499325,
          21.56588451499325,
          24.152739084254367,
          24.152739084254367,
          24.152739084254367,
          24.152739084254367,
          24.152739084254367,
          24.152739084254367,
          24.152739084254367,
          24.974863470271522,
          24.974863470271522,
          24.974863470271522,
          24.974863470271522,
          24.974863470271522,
          24.974863470271522,
          24.974863470271522,
          24.974863470271522,
          24.974863470271522,
          24.974863470271522,
          24.974863470271522,
          24.974863470271522,
          24.974863470271522,
          24.974863470271522,
          24.974863470271522,
          24.974863470271522,
          24.974863470271522,
          24.974863470271522,
          24.974863470271522,
          24.974863470271522,
          32.131621198005156,
          32.131621198005156,
          32.131621198005156,
          32.131621198005156,
          32.131621198005156,
          32.131621198005156,
          32.131621198005156,
          32.131621198005156,
          32.131621198005156,
          32.131621198005156,
          32.131621198005156,
          32.131621198005156,
          32.131621198005156,
          32.131621198005156,
          32.131621198005156,
          32.131621198005156,
          32.131621198005156,
          32.131621198005156,
          32.131621198005156,
          32.131621198005156,
          32.131621198005156,
          32.131621198005156,
          32.131621198005156,
          32.131621198005156,
          32.131621198005156,
          34.98436696089695,
          34.98436696089695,
          39.847149013061525,
          39.847149013061525,
          39.847149013061525,
          39.847149013061525,
          39.847149013061525,
          39.847149013061525,
          39.847149013061525,
          39.847149013061525,
          39.847149013061525,
          39.847149013061525,
          39.847149013061525,
          39.847149013061525,
          39.847149013061525,
          39.847149013061525,
          39.847149013061525,
          39.847149013061525,
          39.847149013061525,
          39.847149013061525,
          39.847149013061525
         ]
        },
        {
         "marker": {
          "color": "#cccccc"
         },
         "mode": "markers",
         "name": "Infeasible Trial",
         "showlegend": false,
         "type": "scatter",
         "x": [],
         "y": []
        }
       ],
       "layout": {
        "autosize": true,
        "template": {
         "data": {
          "bar": [
           {
            "error_x": {
             "color": "#2a3f5f"
            },
            "error_y": {
             "color": "#2a3f5f"
            },
            "marker": {
             "line": {
              "color": "#E5ECF6",
              "width": 0.5
             },
             "pattern": {
              "fillmode": "overlay",
              "size": 10,
              "solidity": 0.2
             }
            },
            "type": "bar"
           }
          ],
          "barpolar": [
           {
            "marker": {
             "line": {
              "color": "#E5ECF6",
              "width": 0.5
             },
             "pattern": {
              "fillmode": "overlay",
              "size": 10,
              "solidity": 0.2
             }
            },
            "type": "barpolar"
           }
          ],
          "carpet": [
           {
            "aaxis": {
             "endlinecolor": "#2a3f5f",
             "gridcolor": "white",
             "linecolor": "white",
             "minorgridcolor": "white",
             "startlinecolor": "#2a3f5f"
            },
            "baxis": {
             "endlinecolor": "#2a3f5f",
             "gridcolor": "white",
             "linecolor": "white",
             "minorgridcolor": "white",
             "startlinecolor": "#2a3f5f"
            },
            "type": "carpet"
           }
          ],
          "choropleth": [
           {
            "colorbar": {
             "outlinewidth": 0,
             "ticks": ""
            },
            "type": "choropleth"
           }
          ],
          "contour": [
           {
            "colorbar": {
             "outlinewidth": 0,
             "ticks": ""
            },
            "colorscale": [
             [
              0,
              "#0d0887"
             ],
             [
              0.1111111111111111,
              "#46039f"
             ],
             [
              0.2222222222222222,
              "#7201a8"
             ],
             [
              0.3333333333333333,
              "#9c179e"
             ],
             [
              0.4444444444444444,
              "#bd3786"
             ],
             [
              0.5555555555555556,
              "#d8576b"
             ],
             [
              0.6666666666666666,
              "#ed7953"
             ],
             [
              0.7777777777777778,
              "#fb9f3a"
             ],
             [
              0.8888888888888888,
              "#fdca26"
             ],
             [
              1,
              "#f0f921"
             ]
            ],
            "type": "contour"
           }
          ],
          "contourcarpet": [
           {
            "colorbar": {
             "outlinewidth": 0,
             "ticks": ""
            },
            "type": "contourcarpet"
           }
          ],
          "heatmap": [
           {
            "colorbar": {
             "outlinewidth": 0,
             "ticks": ""
            },
            "colorscale": [
             [
              0,
              "#0d0887"
             ],
             [
              0.1111111111111111,
              "#46039f"
             ],
             [
              0.2222222222222222,
              "#7201a8"
             ],
             [
              0.3333333333333333,
              "#9c179e"
             ],
             [
              0.4444444444444444,
              "#bd3786"
             ],
             [
              0.5555555555555556,
              "#d8576b"
             ],
             [
              0.6666666666666666,
              "#ed7953"
             ],
             [
              0.7777777777777778,
              "#fb9f3a"
             ],
             [
              0.8888888888888888,
              "#fdca26"
             ],
             [
              1,
              "#f0f921"
             ]
            ],
            "type": "heatmap"
           }
          ],
          "heatmapgl": [
           {
            "colorbar": {
             "outlinewidth": 0,
             "ticks": ""
            },
            "colorscale": [
             [
              0,
              "#0d0887"
             ],
             [
              0.1111111111111111,
              "#46039f"
             ],
             [
              0.2222222222222222,
              "#7201a8"
             ],
             [
              0.3333333333333333,
              "#9c179e"
             ],
             [
              0.4444444444444444,
              "#bd3786"
             ],
             [
              0.5555555555555556,
              "#d8576b"
             ],
             [
              0.6666666666666666,
              "#ed7953"
             ],
             [
              0.7777777777777778,
              "#fb9f3a"
             ],
             [
              0.8888888888888888,
              "#fdca26"
             ],
             [
              1,
              "#f0f921"
             ]
            ],
            "type": "heatmapgl"
           }
          ],
          "histogram": [
           {
            "marker": {
             "pattern": {
              "fillmode": "overlay",
              "size": 10,
              "solidity": 0.2
             }
            },
            "type": "histogram"
           }
          ],
          "histogram2d": [
           {
            "colorbar": {
             "outlinewidth": 0,
             "ticks": ""
            },
            "colorscale": [
             [
              0,
              "#0d0887"
             ],
             [
              0.1111111111111111,
              "#46039f"
             ],
             [
              0.2222222222222222,
              "#7201a8"
             ],
             [
              0.3333333333333333,
              "#9c179e"
             ],
             [
              0.4444444444444444,
              "#bd3786"
             ],
             [
              0.5555555555555556,
              "#d8576b"
             ],
             [
              0.6666666666666666,
              "#ed7953"
             ],
             [
              0.7777777777777778,
              "#fb9f3a"
             ],
             [
              0.8888888888888888,
              "#fdca26"
             ],
             [
              1,
              "#f0f921"
             ]
            ],
            "type": "histogram2d"
           }
          ],
          "histogram2dcontour": [
           {
            "colorbar": {
             "outlinewidth": 0,
             "ticks": ""
            },
            "colorscale": [
             [
              0,
              "#0d0887"
             ],
             [
              0.1111111111111111,
              "#46039f"
             ],
             [
              0.2222222222222222,
              "#7201a8"
             ],
             [
              0.3333333333333333,
              "#9c179e"
             ],
             [
              0.4444444444444444,
              "#bd3786"
             ],
             [
              0.5555555555555556,
              "#d8576b"
             ],
             [
              0.6666666666666666,
              "#ed7953"
             ],
             [
              0.7777777777777778,
              "#fb9f3a"
             ],
             [
              0.8888888888888888,
              "#fdca26"
             ],
             [
              1,
              "#f0f921"
             ]
            ],
            "type": "histogram2dcontour"
           }
          ],
          "mesh3d": [
           {
            "colorbar": {
             "outlinewidth": 0,
             "ticks": ""
            },
            "type": "mesh3d"
           }
          ],
          "parcoords": [
           {
            "line": {
             "colorbar": {
              "outlinewidth": 0,
              "ticks": ""
             }
            },
            "type": "parcoords"
           }
          ],
          "pie": [
           {
            "automargin": true,
            "type": "pie"
           }
          ],
          "scatter": [
           {
            "fillpattern": {
             "fillmode": "overlay",
             "size": 10,
             "solidity": 0.2
            },
            "type": "scatter"
           }
          ],
          "scatter3d": [
           {
            "line": {
             "colorbar": {
              "outlinewidth": 0,
              "ticks": ""
             }
            },
            "marker": {
             "colorbar": {
              "outlinewidth": 0,
              "ticks": ""
             }
            },
            "type": "scatter3d"
           }
          ],
          "scattercarpet": [
           {
            "marker": {
             "colorbar": {
              "outlinewidth": 0,
              "ticks": ""
             }
            },
            "type": "scattercarpet"
           }
          ],
          "scattergeo": [
           {
            "marker": {
             "colorbar": {
              "outlinewidth": 0,
              "ticks": ""
             }
            },
            "type": "scattergeo"
           }
          ],
          "scattergl": [
           {
            "marker": {
             "colorbar": {
              "outlinewidth": 0,
              "ticks": ""
             }
            },
            "type": "scattergl"
           }
          ],
          "scattermapbox": [
           {
            "marker": {
             "colorbar": {
              "outlinewidth": 0,
              "ticks": ""
             }
            },
            "type": "scattermapbox"
           }
          ],
          "scatterpolar": [
           {
            "marker": {
             "colorbar": {
              "outlinewidth": 0,
              "ticks": ""
             }
            },
            "type": "scatterpolar"
           }
          ],
          "scatterpolargl": [
           {
            "marker": {
             "colorbar": {
              "outlinewidth": 0,
              "ticks": ""
             }
            },
            "type": "scatterpolargl"
           }
          ],
          "scatterternary": [
           {
            "marker": {
             "colorbar": {
              "outlinewidth": 0,
              "ticks": ""
             }
            },
            "type": "scatterternary"
           }
          ],
          "surface": [
           {
            "colorbar": {
             "outlinewidth": 0,
             "ticks": ""
            },
            "colorscale": [
             [
              0,
              "#0d0887"
             ],
             [
              0.1111111111111111,
              "#46039f"
             ],
             [
              0.2222222222222222,
              "#7201a8"
             ],
             [
              0.3333333333333333,
              "#9c179e"
             ],
             [
              0.4444444444444444,
              "#bd3786"
             ],
             [
              0.5555555555555556,
              "#d8576b"
             ],
             [
              0.6666666666666666,
              "#ed7953"
             ],
             [
              0.7777777777777778,
              "#fb9f3a"
             ],
             [
              0.8888888888888888,
              "#fdca26"
             ],
             [
              1,
              "#f0f921"
             ]
            ],
            "type": "surface"
           }
          ],
          "table": [
           {
            "cells": {
             "fill": {
              "color": "#EBF0F8"
             },
             "line": {
              "color": "white"
             }
            },
            "header": {
             "fill": {
              "color": "#C8D4E3"
             },
             "line": {
              "color": "white"
             }
            },
            "type": "table"
           }
          ]
         },
         "layout": {
          "annotationdefaults": {
           "arrowcolor": "#2a3f5f",
           "arrowhead": 0,
           "arrowwidth": 1
          },
          "autotypenumbers": "strict",
          "coloraxis": {
           "colorbar": {
            "outlinewidth": 0,
            "ticks": ""
           }
          },
          "colorscale": {
           "diverging": [
            [
             0,
             "#8e0152"
            ],
            [
             0.1,
             "#c51b7d"
            ],
            [
             0.2,
             "#de77ae"
            ],
            [
             0.3,
             "#f1b6da"
            ],
            [
             0.4,
             "#fde0ef"
            ],
            [
             0.5,
             "#f7f7f7"
            ],
            [
             0.6,
             "#e6f5d0"
            ],
            [
             0.7,
             "#b8e186"
            ],
            [
             0.8,
             "#7fbc41"
            ],
            [
             0.9,
             "#4d9221"
            ],
            [
             1,
             "#276419"
            ]
           ],
           "sequential": [
            [
             0,
             "#0d0887"
            ],
            [
             0.1111111111111111,
             "#46039f"
            ],
            [
             0.2222222222222222,
             "#7201a8"
            ],
            [
             0.3333333333333333,
             "#9c179e"
            ],
            [
             0.4444444444444444,
             "#bd3786"
            ],
            [
             0.5555555555555556,
             "#d8576b"
            ],
            [
             0.6666666666666666,
             "#ed7953"
            ],
            [
             0.7777777777777778,
             "#fb9f3a"
            ],
            [
             0.8888888888888888,
             "#fdca26"
            ],
            [
             1,
             "#f0f921"
            ]
           ],
           "sequentialminus": [
            [
             0,
             "#0d0887"
            ],
            [
             0.1111111111111111,
             "#46039f"
            ],
            [
             0.2222222222222222,
             "#7201a8"
            ],
            [
             0.3333333333333333,
             "#9c179e"
            ],
            [
             0.4444444444444444,
             "#bd3786"
            ],
            [
             0.5555555555555556,
             "#d8576b"
            ],
            [
             0.6666666666666666,
             "#ed7953"
            ],
            [
             0.7777777777777778,
             "#fb9f3a"
            ],
            [
             0.8888888888888888,
             "#fdca26"
            ],
            [
             1,
             "#f0f921"
            ]
           ]
          },
          "colorway": [
           "#636efa",
           "#EF553B",
           "#00cc96",
           "#ab63fa",
           "#FFA15A",
           "#19d3f3",
           "#FF6692",
           "#B6E880",
           "#FF97FF",
           "#FECB52"
          ],
          "font": {
           "color": "#2a3f5f"
          },
          "geo": {
           "bgcolor": "white",
           "lakecolor": "white",
           "landcolor": "#E5ECF6",
           "showlakes": true,
           "showland": true,
           "subunitcolor": "white"
          },
          "hoverlabel": {
           "align": "left"
          },
          "hovermode": "closest",
          "mapbox": {
           "style": "light"
          },
          "paper_bgcolor": "white",
          "plot_bgcolor": "#E5ECF6",
          "polar": {
           "angularaxis": {
            "gridcolor": "white",
            "linecolor": "white",
            "ticks": ""
           },
           "bgcolor": "#E5ECF6",
           "radialaxis": {
            "gridcolor": "white",
            "linecolor": "white",
            "ticks": ""
           }
          },
          "scene": {
           "xaxis": {
            "backgroundcolor": "#E5ECF6",
            "gridcolor": "white",
            "gridwidth": 2,
            "linecolor": "white",
            "showbackground": true,
            "ticks": "",
            "zerolinecolor": "white"
           },
           "yaxis": {
            "backgroundcolor": "#E5ECF6",
            "gridcolor": "white",
            "gridwidth": 2,
            "linecolor": "white",
            "showbackground": true,
            "ticks": "",
            "zerolinecolor": "white"
           },
           "zaxis": {
            "backgroundcolor": "#E5ECF6",
            "gridcolor": "white",
            "gridwidth": 2,
            "linecolor": "white",
            "showbackground": true,
            "ticks": "",
            "zerolinecolor": "white"
           }
          },
          "shapedefaults": {
           "line": {
            "color": "#2a3f5f"
           }
          },
          "ternary": {
           "aaxis": {
            "gridcolor": "white",
            "linecolor": "white",
            "ticks": ""
           },
           "baxis": {
            "gridcolor": "white",
            "linecolor": "white",
            "ticks": ""
           },
           "bgcolor": "#E5ECF6",
           "caxis": {
            "gridcolor": "white",
            "linecolor": "white",
            "ticks": ""
           }
          },
          "title": {
           "x": 0.05
          },
          "xaxis": {
           "automargin": true,
           "gridcolor": "white",
           "linecolor": "white",
           "ticks": "",
           "title": {
            "standoff": 15
           },
           "zerolinecolor": "white",
           "zerolinewidth": 2
          },
          "yaxis": {
           "automargin": true,
           "gridcolor": "white",
           "linecolor": "white",
           "ticks": "",
           "title": {
            "standoff": 15
           },
           "zerolinecolor": "white",
           "zerolinewidth": 2
          }
         }
        },
        "title": {
         "text": "Optimization History Plot"
        },
        "xaxis": {
         "autorange": true,
         "range": [
          -6.041338582677165,
          105.04133858267717
         ],
         "title": {
          "text": "Trial"
         },
         "type": "linear"
        },
        "yaxis": {
         "autorange": true,
         "range": [
          -15.188947385746733,
          44.042725868576056
         ],
         "title": {
          "text": "Objective Value"
         },
         "type": "linear"
        }
       }
      },
      "image/png": "[encoded data removed]",
      "text/html": [
       "<div>                            <div id=\"3a816967-f18f-485e-b6ff-260ceb829c22\" class=\"plotly-graph-div\" style=\"height:525px; width:100%;\"></div>            <script type=\"text/javascript\">                require([\"plotly\"], function(Plotly) {                    window.PLOTLYENV=window.PLOTLYENV || {};                                    if (document.getElementById(\"3a816967-f18f-485e-b6ff-260ceb829c22\")) {                    Plotly.newPlot(                        \"3a816967-f18f-485e-b6ff-260ceb829c22\",                        [{\"mode\":\"markers\",\"name\":\"Objective Value\",\"x\":[0,1,2,3,4,5,6,7,8,9,10,11,12,13,14,15,16,17,18,19,20,21,22,23,24,25,26,27,28,29,30,31,32,33,34,35,36,37,38,39,40,41,42,43,44,45,46,47,48,49,50,51,52,53,54,55,56,57,58,59,60,61,62,63,64,65,66,67,68,69,70,71,72,73,74,75,76,77,78,79,80,81,82,83,84,85,86,87,88,89,90,91,92,93,94,95,96,97,98,99],\"y\":[4.9109705077186865,-10.993370530232202,-3.8134112621228287,-9.360073930146049,2.9137244792262607,4.781887355339684,6.923382159035262,5.898431034017586,6.131461716714131,14.602882814761287,-4.0,14.179005935360516,14.858177610485527,11.263526329905378,1.9404878475665903,19.75621793240213,-1.144294472052322,19.281065445910386,21.56588451499325,13.505060208101666,8.823392837108772,15.79195533966963,10.063837232218068,16.739470502239776,18.139039087566935,2.367051968642539,8.074315488599906,24.152739084254367,23.49685973345362,23.875722672427155,20.675423216695457,12.600924930288345,17.84226908167468,21.87547756966204,24.974863470271522,19.416600472833057,12.072144557896273,10.957623664431146,0.2831094345061005,11.045168383568758,23.806815978220513,23.527379943871995,22.756456930131044,16.932814025238574,10.172323104854359,5.200189248541937,16.44823171954317,20.5807271348321,13.941566889362468,8.408210361741556,18.633258600567153,19.5873623398359,16.951920656668637,23.719115125246418,32.131621198005156,19.530632120391193,24.456669776519387,16.104649456578404,11.243955445265946,15.135170045656853,13.7447606283867,23.012033627039393,31.029290716777883,24.97350316767721,24.823957508621145,22.86842178884363,5.88731719203154,22.734300576977095,17.535456086912486,16.923577156524,13.252868909328699,9.842839923595701,12.438773440198599,21.2557421397981,28.81333031261983,22.662304982090088,26.84137188798601,27.00321637452167,26.88803597872262,34.98436696089695,21.97758424364449,39.847149013061525,32.00882324794558,35.26422446474404,35.46516401727956,29.318505933916963,27.11061342678553,22.79790017649069,25.320597057977423,13.002396669609693,34.68038178723101,36.284349465516826,-3.8467986176235907,11.499975974585432,22.384634382584732,19.841470125708646,28.930008131840637,29.011028450664462,15.191951450141834,-7.58776010342133],\"type\":\"scatter\"},{\"mode\":\"lines\",\"name\":\"Best Value\",\"x\":[0,1,2,3,4,5,6,7,8,9,10,11,12,13,14,15,16,17,18,19,20,21,22,23,24,25,26,27,28,29,30,31,32,33,34,35,36,37,38,39,40,41,42,43,44,45,46,47,48,49,50,51,52,53,54,55,56,57,58,59,60,61,62,63,64,65,66,67,68,69,70,71,72,73,74,75,76,77,78,79,80,81,82,83,84,85,86,87,88,89,90,91,92,93,94,95,96,97,98,99],\"y\":[4.9109705077186865,4.9109705077186865,4.9109705077186865,4.9109705077186865,4.9109705077186865,4.9109705077186865,6.923382159035262,6.923382159035262,6.923382159035262,14.602882814761287,14.602882814761287,14.602882814761287,14.858177610485527,14.858177610485527,14.858177610485527,19.75621793240213,19.75621793240213,19.75621793240213,21.56588451499325,21.56588451499325,21.56588451499325,21.56588451499325,21.56588451499325,21.56588451499325,21.56588451499325,21.56588451499325,21.56588451499325,24.152739084254367,24.152739084254367,24.152739084254367,24.152739084254367,24.152739084254367,24.152739084254367,24.152739084254367,24.974863470271522,24.974863470271522,24.974863470271522,24.974863470271522,24.974863470271522,24.974863470271522,24.974863470271522,24.974863470271522,24.974863470271522,24.974863470271522,24.974863470271522,24.974863470271522,24.974863470271522,24.974863470271522,24.974863470271522,24.974863470271522,24.974863470271522,24.974863470271522,24.974863470271522,24.974863470271522,32.131621198005156,32.131621198005156,32.131621198005156,32.131621198005156,32.131621198005156,32.131621198005156,32.131621198005156,32.131621198005156,32.131621198005156,32.131621198005156,32.131621198005156,32.131621198005156,32.131621198005156,32.131621198005156,32.131621198005156,32.131621198005156,32.131621198005156,32.131621198005156,32.131621198005156,32.131621198005156,32.131621198005156,32.131621198005156,32.131621198005156,32.131621198005156,32.131621198005156,34.98436696089695,34.98436696089695,39.847149013061525,39.847149013061525,39.847149013061525,39.847149013061525,39.847149013061525,39.847149013061525,39.847149013061525,39.847149013061525,39.847149013061525,39.847149013061525,39.847149013061525,39.847149013061525,39.847149013061525,39.847149013061525,39.847149013061525,39.847149013061525,39.847149013061525,39.847149013061525,39.847149013061525],\"type\":\"scatter\"},{\"marker\":{\"color\":\"#cccccc\"},\"mode\":\"markers\",\"name\":\"Infeasible Trial\",\"showlegend\":false,\"x\":[],\"y\":[],\"type\":\"scatter\"}],                        {\"title\":{\"text\":\"Optimization History Plot\"},\"xaxis\":{\"title\":{\"text\":\"Trial\"}},\"yaxis\":{\"title\":{\"text\":\"Objective Value\"}},\"template\":{\"data\":{\"histogram2dcontour\":[{\"type\":\"histogram2dcontour\",\"colorbar\":{\"outlinewidth\":0,\"ticks\":\"\"},\"colorscale\":[[0.0,\"#0d0887\"],[0.1111111111111111,\"#46039f\"],[0.2222222222222222,\"#7201a8\"],[0.3333333333333333,\"#9c179e\"],[0.4444444444444444,\"#bd3786\"],[0.5555555555555556,\"#d8576b\"],[0.6666666666666666,\"#ed7953\"],[0.7777777777777778,\"#fb9f3a\"],[0.8888888888888888,\"#fdca26\"],[1.0,\"#f0f921\"]]}],\"choropleth\":[{\"type\":\"choropleth\",\"colorbar\":{\"outlinewidth\":0,\"ticks\":\"\"}}],\"histogram2d\":[{\"type\":\"histogram2d\",\"colorbar\":{\"outlinewidth\":0,\"ticks\":\"\"},\"colorscale\":[[0.0,\"#0d0887\"],[0.1111111111111111,\"#46039f\"],[0.2222222222222222,\"#7201a8\"],[0.3333333333333333,\"#9c179e\"],[0.4444444444444444,\"#bd3786\"],[0.5555555555555556,\"#d8576b\"],[0.6666666666666666,\"#ed7953\"],[0.7777777777777778,\"#fb9f3a\"],[0.8888888888888888,\"#fdca26\"],[1.0,\"#f0f921\"]]}],\"heatmap\":[{\"type\":\"heatmap\",\"colorbar\":{\"outlinewidth\":0,\"ticks\":\"\"},\"colorscale\":[[0.0,\"#0d0887\"],[0.1111111111111111,\"#46039f\"],[0.2222222222222222,\"#7201a8\"],[0.3333333333333333,\"#9c179e\"],[0.4444444444444444,\"#bd3786\"],[0.5555555555555556,\"#d8576b\"],[0.6666666666666666,\"#ed7953\"],[0.7777777777777778,\"#fb9f3a\"],[0.8888888888888888,\"#fdca26\"],[1.0,\"#f0f921\"]]}],\"heatmapgl\":[{\"type\":\"heatmapgl\",\"colorbar\":{\"outlinewidth\":0,\"ticks\":\"\"},\"colorscale\":[[0.0,\"#0d0887\"],[0.1111111111111111,\"#46039f\"],[0.2222222222222222,\"#7201a8\"],[0.3333333333333333,\"#9c179e\"],[0.4444444444444444,\"#bd3786\"],[0.5555555555555556,\"#d8576b\"],[0.6666666666666666,\"#ed7953\"],[0.7777777777777778,\"#fb9f3a\"],[0.8888888888888888,\"#fdca26\"],[1.0,\"#f0f921\"]]}],\"contourcarpet\":[{\"type\":\"contourcarpet\",\"colorbar\":{\"outlinewidth\":0,\"ticks\":\"\"}}],\"contour\":[{\"type\":\"contour\",\"colorbar\":{\"outlinewidth\":0,\"ticks\":\"\"},\"colorscale\":[[0.0,\"#0d0887\"],[0.1111111111111111,\"#46039f\"],[0.2222222222222222,\"#7201a8\"],[0.3333333333333333,\"#9c179e\"],[0.4444444444444444,\"#bd3786\"],[0.5555555555555556,\"#d8576b\"],[0.6666666666666666,\"#ed7953\"],[0.7777777777777778,\"#fb9f3a\"],[0.8888888888888888,\"#fdca26\"],[1.0,\"#f0f921\"]]}],\"surface\":[{\"type\":\"surface\",\"colorbar\":{\"outlinewidth\":0,\"ticks\":\"\"},\"colorscale\":[[0.0,\"#0d0887\"],[0.1111111111111111,\"#46039f\"],[0.2222222222222222,\"#7201a8\"],[0.3333333333333333,\"#9c179e\"],[0.4444444444444444,\"#bd3786\"],[0.5555555555555556,\"#d8576b\"],[0.6666666666666666,\"#ed7953\"],[0.7777777777777778,\"#fb9f3a\"],[0.8888888888888888,\"#fdca26\"],[1.0,\"#f0f921\"]]}],\"mesh3d\":[{\"type\":\"mesh3d\",\"colorbar\":{\"outlinewidth\":0,\"ticks\":\"\"}}],\"scatter\":[{\"fillpattern\":{\"fillmode\":\"overlay\",\"size\":10,\"solidity\":0.2},\"type\":\"scatter\"}],\"parcoords\":[{\"type\":\"parcoords\",\"line\":{\"colorbar\":{\"outlinewidth\":0,\"ticks\":\"\"}}}],\"scatterpolargl\":[{\"type\":\"scatterpolargl\",\"marker\":{\"colorbar\":{\"outlinewidth\":0,\"ticks\":\"\"}}}],\"bar\":[{\"error_x\":{\"color\":\"#2a3f5f\"},\"error_y\":{\"color\":\"#2a3f5f\"},\"marker\":{\"line\":{\"color\":\"#E5ECF6\",\"width\":0.5},\"pattern\":{\"fillmode\":\"overlay\",\"size\":10,\"solidity\":0.2}},\"type\":\"bar\"}],\"scattergeo\":[{\"type\":\"scattergeo\",\"marker\":{\"colorbar\":{\"outlinewidth\":0,\"ticks\":\"\"}}}],\"scatterpolar\":[{\"type\":\"scatterpolar\",\"marker\":{\"colorbar\":{\"outlinewidth\":0,\"ticks\":\"\"}}}],\"histogram\":[{\"marker\":{\"pattern\":{\"fillmode\":\"overlay\",\"size\":10,\"solidity\":0.2}},\"type\":\"histogram\"}],\"scattergl\":[{\"type\":\"scattergl\",\"marker\":{\"colorbar\":{\"outlinewidth\":0,\"ticks\":\"\"}}}],\"scatter3d\":[{\"type\":\"scatter3d\",\"line\":{\"colorbar\":{\"outlinewidth\":0,\"ticks\":\"\"}},\"marker\":{\"colorbar\":{\"outlinewidth\":0,\"ticks\":\"\"}}}],\"scattermapbox\":[{\"type\":\"scattermapbox\",\"marker\":{\"colorbar\":{\"outlinewidth\":0,\"ticks\":\"\"}}}],\"scatterternary\":[{\"type\":\"scatterternary\",\"marker\":{\"colorbar\":{\"outlinewidth\":0,\"ticks\":\"\"}}}],\"scattercarpet\":[{\"type\":\"scattercarpet\",\"marker\":{\"colorbar\":{\"outlinewidth\":0,\"ticks\":\"\"}}}],\"carpet\":[{\"aaxis\":{\"endlinecolor\":\"#2a3f5f\",\"gridcolor\":\"white\",\"linecolor\":\"white\",\"minorgridcolor\":\"white\",\"startlinecolor\":\"#2a3f5f\"},\"baxis\":{\"endlinecolor\":\"#2a3f5f\",\"gridcolor\":\"white\",\"linecolor\":\"white\",\"minorgridcolor\":\"white\",\"startlinecolor\":\"#2a3f5f\"},\"type\":\"carpet\"}],\"table\":[{\"cells\":{\"fill\":{\"color\":\"#EBF0F8\"},\"line\":{\"color\":\"white\"}},\"header\":{\"fill\":{\"color\":\"#C8D4E3\"},\"line\":{\"color\":\"white\"}},\"type\":\"table\"}],\"barpolar\":[{\"marker\":{\"line\":{\"color\":\"#E5ECF6\",\"width\":0.5},\"pattern\":{\"fillmode\":\"overlay\",\"size\":10,\"solidity\":0.2}},\"type\":\"barpolar\"}],\"pie\":[{\"automargin\":true,\"type\":\"pie\"}]},\"layout\":{\"autotypenumbers\":\"strict\",\"colorway\":[\"#636efa\",\"#EF553B\",\"#00cc96\",\"#ab63fa\",\"#FFA15A\",\"#19d3f3\",\"#FF6692\",\"#B6E880\",\"#FF97FF\",\"#FECB52\"],\"font\":{\"color\":\"#2a3f5f\"},\"hovermode\":\"closest\",\"hoverlabel\":{\"align\":\"left\"},\"paper_bgcolor\":\"white\",\"plot_bgcolor\":\"#E5ECF6\",\"polar\":{\"bgcolor\":\"#E5ECF6\",\"angularaxis\":{\"gridcolor\":\"white\",\"linecolor\":\"white\",\"ticks\":\"\"},\"radialaxis\":{\"gridcolor\":\"white\",\"linecolor\":\"white\",\"ticks\":\"\"}},\"ternary\":{\"bgcolor\":\"#E5ECF6\",\"aaxis\":{\"gridcolor\":\"white\",\"linecolor\":\"white\",\"ticks\":\"\"},\"baxis\":{\"gridcolor\":\"white\",\"linecolor\":\"white\",\"ticks\":\"\"},\"caxis\":{\"gridcolor\":\"white\",\"linecolor\":\"white\",\"ticks\":\"\"}},\"coloraxis\":{\"colorbar\":{\"outlinewidth\":0,\"ticks\":\"\"}},\"colorscale\":{\"sequential\":[[0.0,\"#0d0887\"],[0.1111111111111111,\"#46039f\"],[0.2222222222222222,\"#7201a8\"],[0.3333333333333333,\"#9c179e\"],[0.4444444444444444,\"#bd3786\"],[0.5555555555555556,\"#d8576b\"],[0.6666666666666666,\"#ed7953\"],[0.7777777777777778,\"#fb9f3a\"],[0.8888888888888888,\"#fdca26\"],[1.0,\"#f0f921\"]],\"sequentialminus\":[[0.0,\"#0d0887\"],[0.1111111111111111,\"#46039f\"],[0.2222222222222222,\"#7201a8\"],[0.3333333333333333,\"#9c179e\"],[0.4444444444444444,\"#bd3786\"],[0.5555555555555556,\"#d8576b\"],[0.6666666666666666,\"#ed7953\"],[0.7777777777777778,\"#fb9f3a\"],[0.8888888888888888,\"#fdca26\"],[1.0,\"#f0f921\"]],\"diverging\":[[0,\"#8e0152\"],[0.1,\"#c51b7d\"],[0.2,\"#de77ae\"],[0.3,\"#f1b6da\"],[0.4,\"#fde0ef\"],[0.5,\"#f7f7f7\"],[0.6,\"#e6f5d0\"],[0.7,\"#b8e186\"],[0.8,\"#7fbc41\"],[0.9,\"#4d9221\"],[1,\"#276419\"]]},\"xaxis\":{\"gridcolor\":\"white\",\"linecolor\":\"white\",\"ticks\":\"\",\"title\":{\"standoff\":15},\"zerolinecolor\":\"white\",\"automargin\":true,\"zerolinewidth\":2},\"yaxis\":{\"gridcolor\":\"white\",\"linecolor\":\"white\",\"ticks\":\"\",\"title\":{\"standoff\":15},\"zerolinecolor\":\"white\",\"automargin\":true,\"zerolinewidth\":2},\"scene\":{\"xaxis\":{\"backgroundcolor\":\"#E5ECF6\",\"gridcolor\":\"white\",\"linecolor\":\"white\",\"showbackground\":true,\"ticks\":\"\",\"zerolinecolor\":\"white\",\"gridwidth\":2},\"yaxis\":{\"backgroundcolor\":\"#E5ECF6\",\"gridcolor\":\"white\",\"linecolor\":\"white\",\"showbackground\":true,\"ticks\":\"\",\"zerolinecolor\":\"white\",\"gridwidth\":2},\"zaxis\":{\"backgroundcolor\":\"#E5ECF6\",\"gridcolor\":\"white\",\"linecolor\":\"white\",\"showbackground\":true,\"ticks\":\"\",\"zerolinecolor\":\"white\",\"gridwidth\":2}},\"shapedefaults\":{\"line\":{\"color\":\"#2a3f5f\"}},\"annotationdefaults\":{\"arrowcolor\":\"#2a3f5f\",\"arrowhead\":0,\"arrowwidth\":1},\"geo\":{\"bgcolor\":\"white\",\"landcolor\":\"#E5ECF6\",\"subunitcolor\":\"white\",\"showland\":true,\"showlakes\":true,\"lakecolor\":\"white\"},\"title\":{\"x\":0.05},\"mapbox\":{\"style\":\"light\"}}}},                        {\"responsive\": true}                    ).then(function(){\n",
       "                            \n",
       "var gd = document.getElementById('3a816967-f18f-485e-b6ff-260ceb829c22');\n",
       "var x = new MutationObserver(function (mutations, observer) {{\n",
       "        var display = window.getComputedStyle(gd).display;\n",
       "        if (!display || display === 'none') {{\n",
       "            console.log([gd, 'removed!']);\n",
       "            Plotly.purge(gd);\n",
       "            observer.disconnect();\n",
       "        }}\n",
       "}});\n",
       "\n",
       "// Listen for the removal of the full notebook cells\n",
       "var notebookContainer = gd.closest('#notebook-container');\n",
       "if (notebookContainer) {{\n",
       "    x.observe(notebookContainer, {childList: true});\n",
       "}}\n",
       "\n",
       "// Listen for the clearing of the current output cell\n",
       "var outputEl = gd.closest('.output');\n",
       "if (outputEl) {{\n",
       "    x.observe(outputEl, {childList: true});\n",
       "}}\n",
       "\n",
       "                        })                };                });            </script>        </div>"
      ]
     },
     "metadata": {},
     "output_type": "display_data"
    }
   ],
   "source": [
    "from optuna.visualization import plot_optimization_history\n",
    "fig = plot_optimization_history(study)\n",
    "fig.show()  \n"
   ]
  },
  {
   "cell_type": "code",
   "execution_count": null,
   "id": "60e821f4-cdc6-48be-9532-50b0a56a5eb9",
   "metadata": {},
   "outputs": [],
   "source": []
  }
 ],
 "metadata": {
  "kernelspec": {
   "display_name": "Python [conda env:base] *",
   "language": "python",
   "name": "conda-base-py"
  },
  "language_info": {
   "codemirror_mode": {
    "name": "ipython",
    "version": 3
   },
   "file_extension": ".py",
   "mimetype": "text/x-python",
   "name": "python",
   "nbconvert_exporter": "python",
   "pygments_lexer": "ipython3",
   "version": "3.12.7"
  }
 },
 "nbformat": 4,
 "nbformat_minor": 5
}
